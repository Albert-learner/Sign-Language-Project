{
 "cells": [
  {
   "cell_type": "code",
   "execution_count": 1,
   "metadata": {},
   "outputs": [],
   "source": [
    "import os\n",
    "import glob\n",
    "import random\n",
    "import numpy as np\n",
    "import pandas as pd\n",
    "from tqdm import tqdm\n",
    "# import tempfile as tmpf\n",
    "# import openpyxl as opyxl\n",
    "# from openpyxl.utils.dataframe import dataframe_to_rows as df_to_rows"
   ]
  },
  {
   "cell_type": "code",
   "execution_count": 2,
   "metadata": {},
   "outputs": [
    {
     "name": "stdout",
     "output_type": "stream",
     "text": [
      "Total xlsx files : 12\n"
     ]
    }
   ],
   "source": [
    "man_data_paths = '/home/jabblee/Desktop/CRC_collections/CRC_update/2023_Gatherings/2023_Gathering_m/Labeling/*.xlsx'\n",
    "woman_data_paths = '/home/jabblee/Desktop/CRC_collections/CRC_update/2023_Gatherings/2023_Gathering_w/Labeling/*.xlsx'\n",
    "total_data_path = '/home/jabblee/Desktop/CRC_collections/CRC_update/2023_Gatherings/'\n",
    "save_train_data_path = total_data_path + 'TRAIN/'\n",
    "save_test_data_path = total_data_path + 'TEST/'\n",
    "\n",
    "os.makedirs(save_train_data_path, exist_ok = True)\n",
    "os.makedirs(save_test_data_path, exist_ok = True)\n",
    "\n",
    "man_xlsx_lst = sorted(glob.glob(man_data_paths))\n",
    "woman_xlsx_lst = sorted(glob.glob(woman_data_paths))\n",
    "total_xlsx_lst = man_xlsx_lst + woman_xlsx_lst\n",
    "print('Total xlsx files :', len(total_xlsx_lst))"
   ]
  },
  {
   "cell_type": "code",
   "execution_count": 3,
   "metadata": {},
   "outputs": [
    {
     "name": "stderr",
     "output_type": "stream",
     "text": [
      "0it [00:00, ?it/s]"
     ]
    },
    {
     "name": "stderr",
     "output_type": "stream",
     "text": [
      "3it [00:00,  7.71it/s]"
     ]
    },
    {
     "name": "stdout",
     "output_type": "stream",
     "text": [
      "person_sheet_valid Shape : (263, 9)\n",
      "person_sheet_valid_zeros Shape : (119, 9)\n",
      "person_sheet_valid_label_costs Shape : (144, 9)\n",
      "(210, 9) (53, 9)\n",
      "person_sheet_valid Shape : (275, 9)\n",
      "person_sheet_valid_zeros Shape : (118, 9)\n",
      "person_sheet_valid_label_costs Shape : (157, 9)\n",
      "(220, 9) (55, 9)\n",
      "person_sheet_valid Shape : (269, 9)\n",
      "person_sheet_valid_zeros Shape : (115, 9)\n",
      "person_sheet_valid_label_costs Shape : (154, 9)\n",
      "(215, 9) (54, 9)\n"
     ]
    },
    {
     "name": "stderr",
     "output_type": "stream",
     "text": [
      "5it [00:00,  8.07it/s]"
     ]
    },
    {
     "name": "stdout",
     "output_type": "stream",
     "text": [
      "person_sheet_valid Shape : (258, 9)\n",
      "person_sheet_valid_zeros Shape : (109, 9)\n",
      "person_sheet_valid_label_costs Shape : (149, 9)\n",
      "(206, 9) (52, 9)\n",
      "person_sheet_valid Shape : (301, 9)\n",
      "person_sheet_valid_zeros Shape : (133, 9)\n",
      "person_sheet_valid_label_costs Shape : (168, 9)\n",
      "(240, 9) (61, 9)\n"
     ]
    },
    {
     "name": "stderr",
     "output_type": "stream",
     "text": [
      "7it [00:00,  9.05it/s]"
     ]
    },
    {
     "name": "stdout",
     "output_type": "stream",
     "text": [
      "person_sheet_valid Shape : (281, 9)\n",
      "person_sheet_valid_zeros Shape : (113, 9)\n",
      "person_sheet_valid_label_costs Shape : (168, 9)\n",
      "(224, 9) (57, 9)\n",
      "person_sheet_valid Shape : (259, 9)\n",
      "person_sheet_valid_zeros Shape : (100, 9)\n",
      "person_sheet_valid_label_costs Shape : (159, 9)\n",
      "(207, 9) (52, 9)\n",
      "person_sheet_valid Shape : (272, 9)\n",
      "person_sheet_valid_zeros Shape : (107, 9)\n",
      "person_sheet_valid_label_costs Shape : (165, 9)\n",
      "(218, 9) (54, 9)\n"
     ]
    },
    {
     "name": "stderr",
     "output_type": "stream",
     "text": [
      "10it [00:01,  8.73it/s]"
     ]
    },
    {
     "name": "stdout",
     "output_type": "stream",
     "text": [
      "person_sheet_valid Shape : (270, 9)\n",
      "person_sheet_valid_zeros Shape : (111, 9)\n",
      "person_sheet_valid_label_costs Shape : (159, 9)\n",
      "(216, 9) (54, 9)\n",
      "person_sheet_valid Shape : (244, 9)\n",
      "person_sheet_valid_zeros Shape : (102, 9)\n",
      "person_sheet_valid_label_costs Shape : (142, 9)\n",
      "(196, 9) (48, 9)\n"
     ]
    },
    {
     "name": "stderr",
     "output_type": "stream",
     "text": [
      "12it [00:01,  9.33it/s]"
     ]
    },
    {
     "name": "stdout",
     "output_type": "stream",
     "text": [
      "person_sheet_valid Shape : (255, 9)\n",
      "person_sheet_valid_zeros Shape : (102, 9)\n",
      "person_sheet_valid_label_costs Shape : (153, 9)\n",
      "(204, 9) (51, 9)\n",
      "person_sheet_valid Shape : (266, 9)\n",
      "person_sheet_valid_zeros Shape : (112, 9)\n",
      "person_sheet_valid_label_costs Shape : (154, 9)\n",
      "(213, 9) (53, 9)\n"
     ]
    },
    {
     "name": "stderr",
     "output_type": "stream",
     "text": [
      "14it [00:01,  8.46it/s]"
     ]
    },
    {
     "name": "stdout",
     "output_type": "stream",
     "text": [
      "person_sheet_valid Shape : (273, 9)\n",
      "person_sheet_valid_zeros Shape : (109, 9)\n",
      "person_sheet_valid_label_costs Shape : (164, 9)\n",
      "(218, 9) (55, 9)\n",
      "person_sheet_valid Shape : (276, 9)\n",
      "person_sheet_valid_zeros Shape : (112, 9)\n",
      "person_sheet_valid_label_costs Shape : (164, 9)\n",
      "(221, 9) (55, 9)\n"
     ]
    },
    {
     "name": "stderr",
     "output_type": "stream",
     "text": [
      "16it [00:01,  9.20it/s]"
     ]
    },
    {
     "name": "stdout",
     "output_type": "stream",
     "text": [
      "person_sheet_valid Shape : (264, 9)\n",
      "person_sheet_valid_zeros Shape : (112, 9)\n",
      "person_sheet_valid_label_costs Shape : (152, 9)\n",
      "(212, 9) (52, 9)\n",
      "person_sheet_valid Shape : (256, 9)\n",
      "person_sheet_valid_zeros Shape : (110, 9)\n",
      "person_sheet_valid_label_costs Shape : (146, 9)\n",
      "(205, 9) (51, 9)\n",
      "person_sheet_valid Shape : (317, 9)\n",
      "person_sheet_valid_zeros Shape : (130, 9)\n",
      "person_sheet_valid_label_costs Shape : (187, 9)\n",
      "(254, 9) (63, 9)\n"
     ]
    },
    {
     "name": "stderr",
     "output_type": "stream",
     "text": [
      "20it [00:02,  9.46it/s]"
     ]
    },
    {
     "name": "stdout",
     "output_type": "stream",
     "text": [
      "person_sheet_valid Shape : (261, 9)\n",
      "person_sheet_valid_zeros Shape : (108, 9)\n",
      "person_sheet_valid_label_costs Shape : (153, 9)\n",
      "(208, 9) (53, 9)\n",
      "person_sheet_valid Shape : (261, 9)\n",
      "person_sheet_valid_zeros Shape : (107, 9)\n",
      "person_sheet_valid_label_costs Shape : (154, 9)\n",
      "(209, 9) (52, 9)\n",
      "person_sheet_valid Shape : (257, 9)\n",
      "person_sheet_valid_zeros Shape : (115, 9)\n",
      "person_sheet_valid_label_costs Shape : (142, 9)\n",
      "(206, 9) (51, 9)\n"
     ]
    },
    {
     "name": "stderr",
     "output_type": "stream",
     "text": [
      "22it [00:02,  8.80it/s]\n"
     ]
    },
    {
     "name": "stdout",
     "output_type": "stream",
     "text": [
      "person_sheet_valid Shape : (266, 9)\n",
      "person_sheet_valid_zeros Shape : (110, 9)\n",
      "person_sheet_valid_label_costs Shape : (156, 9)\n",
      "(213, 9) (53, 9)\n",
      "person_sheet_valid Shape : (270, 9)\n",
      "person_sheet_valid_zeros Shape : (118, 9)\n",
      "person_sheet_valid_label_costs Shape : (152, 9)\n",
      "(216, 9) (54, 9)\n"
     ]
    },
    {
     "name": "stderr",
     "output_type": "stream",
     "text": [
      "3it [00:00,  9.96it/s]"
     ]
    },
    {
     "name": "stdout",
     "output_type": "stream",
     "text": [
      "person_sheet_valid Shape : (298, 9)\n",
      "person_sheet_valid_zeros Shape : (131, 9)\n",
      "person_sheet_valid_label_costs Shape : (167, 9)\n",
      "(239, 9) (59, 9)\n",
      "person_sheet_valid Shape : (293, 9)\n",
      "person_sheet_valid_zeros Shape : (119, 9)\n",
      "person_sheet_valid_label_costs Shape : (174, 9)\n",
      "(234, 9) (59, 9)\n",
      "person_sheet_valid Shape : (343, 9)\n",
      "person_sheet_valid_zeros Shape : (144, 9)\n",
      "person_sheet_valid_label_costs Shape : (199, 9)\n",
      "(274, 9) (69, 9)\n"
     ]
    },
    {
     "name": "stderr",
     "output_type": "stream",
     "text": [
      "6it [00:00,  9.56it/s]"
     ]
    },
    {
     "name": "stdout",
     "output_type": "stream",
     "text": [
      "person_sheet_valid Shape : (295, 9)\n",
      "person_sheet_valid_zeros Shape : (121, 9)\n",
      "person_sheet_valid_label_costs Shape : (174, 9)\n",
      "(236, 9) (59, 9)\n",
      "person_sheet_valid Shape : (303, 9)\n",
      "person_sheet_valid_zeros Shape : (142, 9)\n",
      "person_sheet_valid_label_costs Shape : (161, 9)\n",
      "(243, 9) (60, 9)\n",
      "person_sheet_valid Shape : (299, 9)\n",
      "person_sheet_valid_zeros Shape : (124, 9)\n",
      "person_sheet_valid_label_costs Shape : (175, 9)\n",
      "(239, 9) (60, 9)\n"
     ]
    },
    {
     "name": "stderr",
     "output_type": "stream",
     "text": [
      "8it [00:00, 10.03it/s]"
     ]
    },
    {
     "name": "stdout",
     "output_type": "stream",
     "text": [
      "person_sheet_valid Shape : (295, 9)\n",
      "person_sheet_valid_zeros Shape : (121, 9)\n",
      "person_sheet_valid_label_costs Shape : (174, 9)\n",
      "(236, 9) (59, 9)\n",
      "person_sheet_valid Shape : (293, 9)\n",
      "person_sheet_valid_zeros Shape : (121, 9)\n",
      "person_sheet_valid_label_costs Shape : (172, 9)\n",
      "(235, 9) (58, 9)\n"
     ]
    },
    {
     "name": "stderr",
     "output_type": "stream",
     "text": [
      "11it [00:01,  9.51it/s]"
     ]
    },
    {
     "name": "stdout",
     "output_type": "stream",
     "text": [
      "person_sheet_valid Shape : (297, 9)\n",
      "person_sheet_valid_zeros Shape : (120, 9)\n",
      "person_sheet_valid_label_costs Shape : (177, 9)\n",
      "(238, 9) (59, 9)\n",
      "person_sheet_valid Shape : (288, 9)\n",
      "person_sheet_valid_zeros Shape : (137, 9)\n",
      "person_sheet_valid_label_costs Shape : (151, 9)\n",
      "(231, 9) (57, 9)\n",
      "person_sheet_valid Shape : (272, 9)\n",
      "person_sheet_valid_zeros Shape : (123, 9)\n",
      "person_sheet_valid_label_costs Shape : (149, 9)\n",
      "(217, 9) (55, 9)\n"
     ]
    },
    {
     "name": "stderr",
     "output_type": "stream",
     "text": [
      "13it [00:01,  9.09it/s]"
     ]
    },
    {
     "name": "stdout",
     "output_type": "stream",
     "text": [
      "person_sheet_valid Shape : (287, 9)\n",
      "person_sheet_valid_zeros Shape : (130, 9)\n",
      "person_sheet_valid_label_costs Shape : (157, 9)\n",
      "(230, 9) (57, 9)\n",
      "person_sheet_valid Shape : (356, 9)\n",
      "person_sheet_valid_zeros Shape : (146, 9)\n",
      "person_sheet_valid_label_costs Shape : (210, 9)\n",
      "(285, 9) (71, 9)\n"
     ]
    },
    {
     "name": "stderr",
     "output_type": "stream",
     "text": [
      "15it [00:01,  9.60it/s]"
     ]
    },
    {
     "name": "stdout",
     "output_type": "stream",
     "text": [
      "person_sheet_valid Shape : (292, 9)\n",
      "person_sheet_valid_zeros Shape : (125, 9)\n",
      "person_sheet_valid_label_costs Shape : (167, 9)\n",
      "(234, 9) (58, 9)\n",
      "person_sheet_valid Shape : (289, 9)\n",
      "person_sheet_valid_zeros Shape : (123, 9)\n",
      "person_sheet_valid_label_costs Shape : (166, 9)\n",
      "(231, 9) (58, 9)\n"
     ]
    },
    {
     "name": "stderr",
     "output_type": "stream",
     "text": [
      "17it [00:01,  8.28it/s]"
     ]
    },
    {
     "name": "stdout",
     "output_type": "stream",
     "text": [
      "person_sheet_valid Shape : (284, 9)\n",
      "person_sheet_valid_zeros Shape : (125, 9)\n",
      "person_sheet_valid_label_costs Shape : (159, 9)\n",
      "(227, 9) (57, 9)\n",
      "person_sheet_valid Shape : (274, 9)\n",
      "person_sheet_valid_zeros Shape : (118, 9)\n",
      "person_sheet_valid_label_costs Shape : (156, 9)\n",
      "(219, 9) (55, 9)\n"
     ]
    },
    {
     "name": "stderr",
     "output_type": "stream",
     "text": [
      "19it [00:02,  9.08it/s]"
     ]
    },
    {
     "name": "stdout",
     "output_type": "stream",
     "text": [
      "person_sheet_valid Shape : (290, 9)\n",
      "person_sheet_valid_zeros Shape : (123, 9)\n",
      "person_sheet_valid_label_costs Shape : (167, 9)\n",
      "(232, 9) (58, 9)\n",
      "person_sheet_valid Shape : (289, 9)\n",
      "person_sheet_valid_zeros Shape : (121, 9)\n",
      "person_sheet_valid_label_costs Shape : (168, 9)\n",
      "(231, 9) (58, 9)\n",
      "person_sheet_valid Shape : (289, 9)\n",
      "person_sheet_valid_zeros Shape : (122, 9)\n",
      "person_sheet_valid_label_costs Shape : (167, 9)\n"
     ]
    },
    {
     "name": "stderr",
     "output_type": "stream",
     "text": [
      "21it [00:02,  9.07it/s]"
     ]
    },
    {
     "name": "stdout",
     "output_type": "stream",
     "text": [
      "(232, 9) (57, 9)\n",
      "person_sheet_valid Shape : (296, 9)\n",
      "person_sheet_valid_zeros Shape : (121, 9)\n",
      "person_sheet_valid_label_costs Shape : (175, 9)\n",
      "(237, 9) (59, 9)\n"
     ]
    },
    {
     "name": "stderr",
     "output_type": "stream",
     "text": [
      "22it [00:02,  9.02it/s]\n"
     ]
    },
    {
     "name": "stdout",
     "output_type": "stream",
     "text": [
      "person_sheet_valid Shape : (286, 9)\n",
      "person_sheet_valid_zeros Shape : (121, 9)\n",
      "person_sheet_valid_label_costs Shape : (165, 9)\n",
      "(229, 9) (57, 9)\n"
     ]
    },
    {
     "name": "stderr",
     "output_type": "stream",
     "text": [
      "2it [00:00, 10.60it/s]"
     ]
    },
    {
     "name": "stdout",
     "output_type": "stream",
     "text": [
      "person_sheet_valid Shape : (286, 9)\n",
      "person_sheet_valid_zeros Shape : (122, 9)\n",
      "person_sheet_valid_label_costs Shape : (164, 9)\n",
      "(229, 9) (57, 9)\n",
      "person_sheet_valid Shape : (279, 9)\n",
      "person_sheet_valid_zeros Shape : (121, 9)\n",
      "person_sheet_valid_label_costs Shape : (158, 9)\n",
      "(223, 9) (56, 9)\n",
      "person_sheet_valid Shape : (274, 9)\n",
      "person_sheet_valid_zeros Shape : (119, 9)\n",
      "person_sheet_valid_label_costs Shape : (155, 9)\n",
      "(219, 9) (55, 9)\n"
     ]
    },
    {
     "name": "stderr",
     "output_type": "stream",
     "text": [
      "4it [00:00,  9.15it/s]"
     ]
    },
    {
     "name": "stdout",
     "output_type": "stream",
     "text": [
      "person_sheet_valid Shape : (267, 9)\n",
      "person_sheet_valid_zeros Shape : (133, 9)\n",
      "person_sheet_valid_label_costs Shape : (134, 9)\n",
      "(213, 9) (54, 9)\n"
     ]
    },
    {
     "name": "stderr",
     "output_type": "stream",
     "text": [
      "5it [00:00,  8.92it/s]"
     ]
    },
    {
     "name": "stdout",
     "output_type": "stream",
     "text": [
      "person_sheet_valid Shape : (256, 9)\n",
      "person_sheet_valid_zeros Shape : (117, 9)\n",
      "person_sheet_valid_label_costs Shape : (139, 9)\n",
      "(205, 9) (51, 9)\n"
     ]
    },
    {
     "name": "stderr",
     "output_type": "stream",
     "text": [
      "7it [00:00,  9.68it/s]"
     ]
    },
    {
     "name": "stdout",
     "output_type": "stream",
     "text": [
      "person_sheet_valid Shape : (280, 9)\n",
      "person_sheet_valid_zeros Shape : (122, 9)\n",
      "person_sheet_valid_label_costs Shape : (158, 9)\n",
      "(224, 9) (56, 9)\n",
      "person_sheet_valid Shape : (225, 9)\n",
      "person_sheet_valid_zeros Shape : (110, 9)\n",
      "person_sheet_valid_label_costs Shape : (115, 9)\n",
      "(180, 9) (45, 9)\n"
     ]
    },
    {
     "name": "stderr",
     "output_type": "stream",
     "text": [
      "9it [00:00,  8.78it/s]"
     ]
    },
    {
     "name": "stdout",
     "output_type": "stream",
     "text": [
      "person_sheet_valid Shape : (270, 9)\n",
      "person_sheet_valid_zeros Shape : (114, 9)\n",
      "person_sheet_valid_label_costs Shape : (156, 9)\n",
      "(216, 9) (54, 9)\n",
      "person_sheet_valid Shape : (292, 9)\n",
      "person_sheet_valid_zeros Shape : (105, 9)\n",
      "person_sheet_valid_label_costs Shape : (187, 9)\n",
      "(234, 9) (58, 9)\n"
     ]
    },
    {
     "name": "stderr",
     "output_type": "stream",
     "text": [
      "11it [00:01,  9.62it/s]"
     ]
    },
    {
     "name": "stdout",
     "output_type": "stream",
     "text": [
      "person_sheet_valid Shape : (260, 9)\n",
      "person_sheet_valid_zeros Shape : (86, 9)\n",
      "person_sheet_valid_label_costs Shape : (174, 9)\n",
      "(208, 9) (52, 9)\n",
      "person_sheet_valid Shape : (250, 9)\n",
      "person_sheet_valid_zeros Shape : (128, 9)\n",
      "person_sheet_valid_label_costs Shape : (122, 9)\n",
      "(200, 9) (50, 9)\n"
     ]
    },
    {
     "name": "stderr",
     "output_type": "stream",
     "text": [
      "14it [00:01,  9.58it/s]"
     ]
    },
    {
     "name": "stdout",
     "output_type": "stream",
     "text": [
      "person_sheet_valid Shape : (271, 9)\n",
      "person_sheet_valid_zeros Shape : (105, 9)\n",
      "person_sheet_valid_label_costs Shape : (166, 9)\n",
      "(217, 9) (54, 9)\n",
      "person_sheet_valid Shape : (268, 9)\n",
      "person_sheet_valid_zeros Shape : (108, 9)\n",
      "person_sheet_valid_label_costs Shape : (160, 9)\n",
      "(214, 9) (54, 9)\n",
      "person_sheet_valid Shape : (262, 9)\n",
      "person_sheet_valid_zeros Shape : (125, 9)\n",
      "person_sheet_valid_label_costs Shape : (137, 9)\n",
      "(210, 9) (52, 9)\n"
     ]
    },
    {
     "name": "stderr",
     "output_type": "stream",
     "text": [
      "16it [00:01,  9.23it/s]"
     ]
    },
    {
     "name": "stdout",
     "output_type": "stream",
     "text": [
      "person_sheet_valid Shape : (270, 9)\n",
      "person_sheet_valid_zeros Shape : (122, 9)\n",
      "person_sheet_valid_label_costs Shape : (148, 9)\n",
      "(216, 9) (54, 9)\n",
      "person_sheet_valid Shape : (257, 9)\n",
      "person_sheet_valid_zeros Shape : (126, 9)\n",
      "person_sheet_valid_label_costs Shape : (131, 9)\n",
      "(206, 9) (51, 9)\n"
     ]
    },
    {
     "name": "stderr",
     "output_type": "stream",
     "text": [
      "19it [00:02,  9.67it/s]"
     ]
    },
    {
     "name": "stdout",
     "output_type": "stream",
     "text": [
      "person_sheet_valid Shape : (271, 9)\n",
      "person_sheet_valid_zeros Shape : (118, 9)\n",
      "person_sheet_valid_label_costs Shape : (153, 9)\n",
      "(216, 9) (55, 9)\n",
      "person_sheet_valid Shape : (269, 9)\n",
      "person_sheet_valid_zeros Shape : (116, 9)\n",
      "person_sheet_valid_label_costs Shape : (153, 9)\n",
      "(215, 9) (54, 9)\n",
      "person_sheet_valid Shape : (266, 9)\n",
      "person_sheet_valid_zeros Shape : (115, 9)\n",
      "person_sheet_valid_label_costs Shape : (151, 9)\n",
      "(213, 9) (53, 9)\n"
     ]
    },
    {
     "name": "stderr",
     "output_type": "stream",
     "text": [
      "21it [00:02,  8.62it/s]"
     ]
    },
    {
     "name": "stdout",
     "output_type": "stream",
     "text": [
      "person_sheet_valid Shape : (270, 9)\n",
      "person_sheet_valid_zeros Shape : (116, 9)\n",
      "person_sheet_valid_label_costs Shape : (154, 9)\n",
      "(216, 9) (54, 9)\n",
      "person_sheet_valid Shape : (255, 9)\n",
      "person_sheet_valid_zeros Shape : (113, 9)\n",
      "person_sheet_valid_label_costs Shape : (142, 9)\n",
      "(204, 9) (51, 9)\n"
     ]
    },
    {
     "name": "stderr",
     "output_type": "stream",
     "text": [
      "22it [00:02,  9.19it/s]\n"
     ]
    },
    {
     "name": "stdout",
     "output_type": "stream",
     "text": [
      "person_sheet_valid Shape : (286, 9)\n",
      "person_sheet_valid_zeros Shape : (115, 9)\n",
      "person_sheet_valid_label_costs Shape : (171, 9)\n",
      "(229, 9) (57, 9)\n"
     ]
    },
    {
     "name": "stderr",
     "output_type": "stream",
     "text": [
      "1it [00:00,  9.93it/s]"
     ]
    },
    {
     "name": "stdout",
     "output_type": "stream",
     "text": [
      "person_sheet_valid Shape : (339, 9)\n",
      "person_sheet_valid_zeros Shape : (141, 9)\n",
      "person_sheet_valid_label_costs Shape : (198, 9)\n",
      "(271, 9) (68, 9)\n"
     ]
    },
    {
     "name": "stderr",
     "output_type": "stream",
     "text": [
      "2it [00:00,  8.74it/s]"
     ]
    },
    {
     "name": "stdout",
     "output_type": "stream",
     "text": [
      "person_sheet_valid Shape : (493, 9)\n",
      "person_sheet_valid_zeros Shape : (245, 9)\n",
      "person_sheet_valid_label_costs Shape : (248, 9)\n",
      "(394, 9) (99, 9)\n"
     ]
    },
    {
     "name": "stderr",
     "output_type": "stream",
     "text": [
      "3it [00:00,  7.20it/s]"
     ]
    },
    {
     "name": "stdout",
     "output_type": "stream",
     "text": [
      "person_sheet_valid Shape : (305, 9)\n",
      "person_sheet_valid_zeros Shape : (143, 9)\n",
      "person_sheet_valid_label_costs Shape : (162, 9)\n",
      "(244, 9) (61, 9)\n"
     ]
    },
    {
     "name": "stderr",
     "output_type": "stream",
     "text": [
      "4it [00:00,  7.72it/s]"
     ]
    },
    {
     "name": "stdout",
     "output_type": "stream",
     "text": [
      "person_sheet_valid Shape : (315, 9)\n",
      "person_sheet_valid_zeros Shape : (161, 9)\n",
      "person_sheet_valid_label_costs Shape : (154, 9)\n",
      "(252, 9) (63, 9)\n"
     ]
    },
    {
     "name": "stderr",
     "output_type": "stream",
     "text": [
      "5it [00:00,  7.67it/s]"
     ]
    },
    {
     "name": "stdout",
     "output_type": "stream",
     "text": [
      "person_sheet_valid Shape : (268, 9)\n",
      "person_sheet_valid_zeros Shape : (124, 9)\n",
      "person_sheet_valid_label_costs Shape : (144, 9)\n",
      "(214, 9) (54, 9)\n"
     ]
    },
    {
     "name": "stderr",
     "output_type": "stream",
     "text": [
      "6it [00:00,  8.31it/s]"
     ]
    },
    {
     "name": "stdout",
     "output_type": "stream",
     "text": [
      "person_sheet_valid Shape : (287, 9)\n",
      "person_sheet_valid_zeros Shape : (117, 9)\n",
      "person_sheet_valid_label_costs Shape : (170, 9)\n",
      "(230, 9) (57, 9)\n"
     ]
    },
    {
     "name": "stderr",
     "output_type": "stream",
     "text": [
      "7it [00:00,  7.72it/s]"
     ]
    },
    {
     "name": "stdout",
     "output_type": "stream",
     "text": [
      "person_sheet_valid Shape : (239, 9)\n",
      "person_sheet_valid_zeros Shape : (117, 9)\n",
      "person_sheet_valid_label_costs Shape : (122, 9)\n",
      "(192, 9) (47, 9)\n"
     ]
    },
    {
     "name": "stderr",
     "output_type": "stream",
     "text": [
      "9it [00:01,  8.89it/s]"
     ]
    },
    {
     "name": "stdout",
     "output_type": "stream",
     "text": [
      "person_sheet_valid Shape : (271, 9)\n",
      "person_sheet_valid_zeros Shape : (120, 9)\n",
      "person_sheet_valid_label_costs Shape : (151, 9)\n",
      "(217, 9) (54, 9)\n",
      "person_sheet_valid Shape : (268, 9)\n",
      "person_sheet_valid_zeros Shape : (123, 9)\n",
      "person_sheet_valid_label_costs Shape : (145, 9)\n",
      "(214, 9) (54, 9)\n",
      "person_sheet_valid Shape : (309, 9)\n",
      "person_sheet_valid_zeros Shape : (131, 9)\n",
      "person_sheet_valid_label_costs Shape : (178, 9)\n",
      "(247, 9) (62, 9)\n"
     ]
    },
    {
     "name": "stderr",
     "output_type": "stream",
     "text": [
      "11it [00:01,  8.63it/s]"
     ]
    },
    {
     "name": "stdout",
     "output_type": "stream",
     "text": [
      "person_sheet_valid Shape : (244, 9)\n",
      "person_sheet_valid_zeros Shape : (99, 9)\n",
      "person_sheet_valid_label_costs Shape : (145, 9)\n",
      "(195, 9) (49, 9)\n"
     ]
    },
    {
     "name": "stderr",
     "output_type": "stream",
     "text": [
      "12it [00:01,  8.85it/s]"
     ]
    },
    {
     "name": "stdout",
     "output_type": "stream",
     "text": [
      "person_sheet_valid Shape : (276, 9)\n",
      "person_sheet_valid_zeros Shape : (111, 9)\n",
      "person_sheet_valid_label_costs Shape : (165, 9)\n",
      "(221, 9) (55, 9)\n",
      "person_sheet_valid Shape : (261, 9)\n",
      "person_sheet_valid_zeros Shape : (119, 9)\n",
      "person_sheet_valid_label_costs Shape : (142, 9)\n"
     ]
    },
    {
     "name": "stderr",
     "output_type": "stream",
     "text": [
      "13it [00:01,  8.92it/s]"
     ]
    },
    {
     "name": "stdout",
     "output_type": "stream",
     "text": [
      "(209, 9) (52, 9)\n",
      "person_sheet_valid Shape : (263, 9)\n",
      "person_sheet_valid_zeros Shape : (119, 9)\n",
      "person_sheet_valid_label_costs Shape : (144, 9)\n",
      "(210, 9) (53, 9)\n"
     ]
    },
    {
     "name": "stderr",
     "output_type": "stream",
     "text": [
      "15it [00:01,  8.60it/s]"
     ]
    },
    {
     "name": "stdout",
     "output_type": "stream",
     "text": [
      "person_sheet_valid Shape : (240, 9)\n",
      "person_sheet_valid_zeros Shape : (109, 9)\n",
      "person_sheet_valid_label_costs Shape : (131, 9)\n",
      "(192, 9) (48, 9)\n"
     ]
    },
    {
     "name": "stderr",
     "output_type": "stream",
     "text": [
      "16it [00:01,  8.86it/s]"
     ]
    },
    {
     "name": "stdout",
     "output_type": "stream",
     "text": [
      "person_sheet_valid Shape : (258, 9)\n",
      "person_sheet_valid_zeros Shape : (112, 9)\n",
      "person_sheet_valid_label_costs Shape : (146, 9)\n",
      "(207, 9) (51, 9)\n",
      "person_sheet_valid Shape : (239, 9)\n",
      "person_sheet_valid_zeros Shape : (99, 9)\n",
      "person_sheet_valid_label_costs Shape : (140, 9)\n",
      "(191, 9) (48, 9)\n"
     ]
    },
    {
     "name": "stderr",
     "output_type": "stream",
     "text": [
      "18it [00:02,  9.44it/s]"
     ]
    },
    {
     "name": "stdout",
     "output_type": "stream",
     "text": [
      "person_sheet_valid Shape : (251, 9)\n",
      "person_sheet_valid_zeros Shape : (107, 9)\n",
      "person_sheet_valid_label_costs Shape : (144, 9)\n",
      "(201, 9) (50, 9)\n"
     ]
    },
    {
     "name": "stderr",
     "output_type": "stream",
     "text": [
      "19it [00:02,  8.18it/s]"
     ]
    },
    {
     "name": "stdout",
     "output_type": "stream",
     "text": [
      "person_sheet_valid Shape : (246, 9)\n",
      "person_sheet_valid_zeros Shape : (105, 9)\n",
      "person_sheet_valid_label_costs Shape : (141, 9)\n",
      "(197, 9) (49, 9)\n"
     ]
    },
    {
     "name": "stderr",
     "output_type": "stream",
     "text": [
      "20it [00:02,  8.24it/s]"
     ]
    },
    {
     "name": "stdout",
     "output_type": "stream",
     "text": [
      "person_sheet_valid Shape : (240, 9)\n",
      "person_sheet_valid_zeros Shape : (104, 9)\n",
      "person_sheet_valid_label_costs Shape : (136, 9)\n",
      "(192, 9) (48, 9)\n"
     ]
    },
    {
     "name": "stderr",
     "output_type": "stream",
     "text": [
      "22it [00:02,  8.60it/s]\n"
     ]
    },
    {
     "name": "stdout",
     "output_type": "stream",
     "text": [
      "person_sheet_valid Shape : (248, 9)\n",
      "person_sheet_valid_zeros Shape : (115, 9)\n",
      "person_sheet_valid_label_costs Shape : (133, 9)\n",
      "(198, 9) (50, 9)\n",
      "person_sheet_valid Shape : (257, 9)\n",
      "person_sheet_valid_zeros Shape : (106, 9)\n",
      "person_sheet_valid_label_costs Shape : (151, 9)\n",
      "(206, 9) (51, 9)\n"
     ]
    },
    {
     "name": "stderr",
     "output_type": "stream",
     "text": [
      "2it [00:00,  7.73it/s]"
     ]
    },
    {
     "name": "stdout",
     "output_type": "stream",
     "text": [
      "person_sheet_valid Shape : (295, 9)\n",
      "person_sheet_valid_zeros Shape : (123, 9)\n",
      "person_sheet_valid_label_costs Shape : (172, 9)\n",
      "(236, 9) (59, 9)\n",
      "person_sheet_valid Shape : (294, 9)\n",
      "person_sheet_valid_zeros Shape : (123, 9)\n",
      "person_sheet_valid_label_costs Shape : (171, 9)\n",
      "(235, 9) (59, 9)\n",
      "person_sheet_valid Shape : (294, 9)\n",
      "person_sheet_valid_zeros Shape : (117, 9)\n",
      "person_sheet_valid_label_costs Shape : (177, 9)\n"
     ]
    },
    {
     "name": "stderr",
     "output_type": "stream",
     "text": [
      "4it [00:00,  8.95it/s]"
     ]
    },
    {
     "name": "stdout",
     "output_type": "stream",
     "text": [
      "(236, 9) (58, 9)\n",
      "person_sheet_valid Shape : (293, 9)\n",
      "person_sheet_valid_zeros Shape : (121, 9)\n",
      "person_sheet_valid_label_costs Shape : (172, 9)\n",
      "(235, 9) (58, 9)\n"
     ]
    },
    {
     "name": "stderr",
     "output_type": "stream",
     "text": [
      "6it [00:00,  8.52it/s]"
     ]
    },
    {
     "name": "stdout",
     "output_type": "stream",
     "text": [
      "person_sheet_valid Shape : (272, 9)\n",
      "person_sheet_valid_zeros Shape : (117, 9)\n",
      "person_sheet_valid_label_costs Shape : (155, 9)\n",
      "(218, 9) (54, 9)\n",
      "person_sheet_valid Shape : (295, 9)\n",
      "person_sheet_valid_zeros Shape : (116, 9)\n",
      "person_sheet_valid_label_costs Shape : (179, 9)\n",
      "(236, 9) (59, 9)\n",
      "person_sheet_valid Shape : (292, 9)\n",
      "person_sheet_valid_zeros Shape : (108, 9)\n",
      "person_sheet_valid_label_costs Shape : (184, 9)\n"
     ]
    },
    {
     "name": "stderr",
     "output_type": "stream",
     "text": [
      "8it [00:00,  7.86it/s]"
     ]
    },
    {
     "name": "stdout",
     "output_type": "stream",
     "text": [
      "(233, 9) (59, 9)\n",
      "person_sheet_valid Shape : (290, 9)\n",
      "person_sheet_valid_zeros Shape : (120, 9)\n",
      "person_sheet_valid_label_costs Shape : (170, 9)\n",
      "(232, 9) (58, 9)\n"
     ]
    },
    {
     "name": "stderr",
     "output_type": "stream",
     "text": [
      "10it [00:01,  8.78it/s]"
     ]
    },
    {
     "name": "stdout",
     "output_type": "stream",
     "text": [
      "person_sheet_valid Shape : (293, 9)\n",
      "person_sheet_valid_zeros Shape : (117, 9)\n",
      "person_sheet_valid_label_costs Shape : (176, 9)\n",
      "(235, 9) (58, 9)\n",
      "person_sheet_valid Shape : (281, 9)\n",
      "person_sheet_valid_zeros Shape : (117, 9)\n",
      "person_sheet_valid_label_costs Shape : (164, 9)\n",
      "(225, 9) (56, 9)\n",
      "person_sheet_valid Shape : (296, 9)\n",
      "person_sheet_valid_zeros Shape : (111, 9)\n",
      "person_sheet_valid_label_costs Shape : (185, 9)\n"
     ]
    },
    {
     "name": "stderr",
     "output_type": "stream",
     "text": [
      "12it [00:01,  8.15it/s]"
     ]
    },
    {
     "name": "stdout",
     "output_type": "stream",
     "text": [
      "(237, 9) (59, 9)\n",
      "person_sheet_valid Shape : (295, 9)\n",
      "person_sheet_valid_zeros Shape : (109, 9)\n",
      "person_sheet_valid_label_costs Shape : (186, 9)\n",
      "(236, 9) (59, 9)\n"
     ]
    },
    {
     "name": "stderr",
     "output_type": "stream",
     "text": [
      "14it [00:01,  8.02it/s]"
     ]
    },
    {
     "name": "stdout",
     "output_type": "stream",
     "text": [
      "person_sheet_valid Shape : (341, 9)\n",
      "person_sheet_valid_zeros Shape : (125, 9)\n",
      "person_sheet_valid_label_costs Shape : (216, 9)\n",
      "(273, 9) (20, 9)\n",
      "person_sheet_valid Shape : (297, 9)\n",
      "person_sheet_valid_zeros Shape : (113, 9)\n",
      "person_sheet_valid_label_costs Shape : (184, 9)\n",
      "(237, 9) (60, 9)\n"
     ]
    },
    {
     "name": "stderr",
     "output_type": "stream",
     "text": [
      "16it [00:01,  7.33it/s]"
     ]
    },
    {
     "name": "stdout",
     "output_type": "stream",
     "text": [
      "person_sheet_valid Shape : (294, 9)\n",
      "person_sheet_valid_zeros Shape : (103, 9)\n",
      "person_sheet_valid_label_costs Shape : (191, 9)\n",
      "(235, 9) (59, 9)\n",
      "person_sheet_valid Shape : (299, 9)\n",
      "person_sheet_valid_zeros Shape : (113, 9)\n",
      "person_sheet_valid_label_costs Shape : (186, 9)\n",
      "(239, 9) (60, 9)\n"
     ]
    },
    {
     "name": "stderr",
     "output_type": "stream",
     "text": [
      "18it [00:02,  8.42it/s]"
     ]
    },
    {
     "name": "stdout",
     "output_type": "stream",
     "text": [
      "person_sheet_valid Shape : (296, 9)\n",
      "person_sheet_valid_zeros Shape : (114, 9)\n",
      "person_sheet_valid_label_costs Shape : (182, 9)\n",
      "(237, 9) (59, 9)\n",
      "person_sheet_valid Shape : (297, 9)\n",
      "person_sheet_valid_zeros Shape : (111, 9)\n",
      "person_sheet_valid_label_costs Shape : (186, 9)\n",
      "(238, 9) (59, 9)\n",
      "person_sheet_valid Shape : (293, 9)\n",
      "person_sheet_valid_zeros Shape : (111, 9)\n",
      "person_sheet_valid_label_costs Shape : (182, 9)\n"
     ]
    },
    {
     "name": "stderr",
     "output_type": "stream",
     "text": [
      "20it [00:02,  8.04it/s]"
     ]
    },
    {
     "name": "stdout",
     "output_type": "stream",
     "text": [
      "(235, 9) (58, 9)\n",
      "person_sheet_valid Shape : (292, 9)\n",
      "person_sheet_valid_zeros Shape : (107, 9)\n",
      "person_sheet_valid_label_costs Shape : (185, 9)\n",
      "(234, 9) (58, 9)\n"
     ]
    },
    {
     "name": "stderr",
     "output_type": "stream",
     "text": [
      "22it [00:02,  8.20it/s]\n"
     ]
    },
    {
     "name": "stdout",
     "output_type": "stream",
     "text": [
      "person_sheet_valid Shape : (295, 9)\n",
      "person_sheet_valid_zeros Shape : (107, 9)\n",
      "person_sheet_valid_label_costs Shape : (188, 9)\n",
      "(236, 9) (59, 9)\n",
      "person_sheet_valid Shape : (298, 9)\n",
      "person_sheet_valid_zeros Shape : (118, 9)\n",
      "person_sheet_valid_label_costs Shape : (180, 9)\n",
      "(238, 9) (60, 9)\n"
     ]
    },
    {
     "name": "stderr",
     "output_type": "stream",
     "text": [
      "2it [00:00,  7.29it/s]"
     ]
    },
    {
     "name": "stdout",
     "output_type": "stream",
     "text": [
      "person_sheet_valid Shape : (299, 9)\n",
      "person_sheet_valid_zeros Shape : (143, 9)\n",
      "person_sheet_valid_label_costs Shape : (156, 9)\n",
      "(239, 9) (60, 9)\n",
      "person_sheet_valid Shape : (291, 9)\n",
      "person_sheet_valid_zeros Shape : (126, 9)\n",
      "person_sheet_valid_label_costs Shape : (165, 9)\n",
      "(233, 9) (58, 9)\n"
     ]
    },
    {
     "name": "stderr",
     "output_type": "stream",
     "text": [
      "3it [00:00,  8.21it/s]"
     ]
    },
    {
     "name": "stdout",
     "output_type": "stream",
     "text": [
      "person_sheet_valid Shape : (319, 9)\n",
      "person_sheet_valid_zeros Shape : (127, 9)\n",
      "person_sheet_valid_label_costs Shape : (192, 9)\n",
      "(256, 9) (63, 9)\n",
      "person_sheet_valid Shape : (229, 9)\n",
      "person_sheet_valid_zeros Shape : (89, 9)\n",
      "person_sheet_valid_label_costs Shape : (140, 9)\n",
      "(183, 9) (46, 9)\n",
      "person_sheet_valid Shape : (283, 9)\n",
      "person_sheet_valid_zeros Shape : (121, 9)\n",
      "person_sheet_valid_label_costs Shape : (162, 9)\n"
     ]
    },
    {
     "name": "stderr",
     "output_type": "stream",
     "text": [
      "5it [00:00,  9.39it/s]"
     ]
    },
    {
     "name": "stdout",
     "output_type": "stream",
     "text": [
      "(227, 9) (56, 9)\n",
      "person_sheet_valid Shape : (296, 9)\n",
      "person_sheet_valid_zeros Shape : (133, 9)\n",
      "person_sheet_valid_label_costs Shape : (163, 9)\n",
      "(236, 9) (60, 9)\n"
     ]
    },
    {
     "name": "stderr",
     "output_type": "stream",
     "text": [
      "8it [00:00,  8.43it/s]"
     ]
    },
    {
     "name": "stdout",
     "output_type": "stream",
     "text": [
      "person_sheet_valid Shape : (290, 9)\n",
      "person_sheet_valid_zeros Shape : (115, 9)\n",
      "person_sheet_valid_label_costs Shape : (175, 9)\n",
      "(232, 9) (58, 9)\n",
      "person_sheet_valid Shape : (289, 9)\n",
      "person_sheet_valid_zeros Shape : (122, 9)\n",
      "person_sheet_valid_label_costs Shape : (167, 9)\n",
      "(232, 9) (57, 9)\n"
     ]
    },
    {
     "name": "stderr",
     "output_type": "stream",
     "text": [
      "10it [00:01,  8.58it/s]"
     ]
    },
    {
     "name": "stdout",
     "output_type": "stream",
     "text": [
      "person_sheet_valid Shape : (288, 9)\n",
      "person_sheet_valid_zeros Shape : (106, 9)\n",
      "person_sheet_valid_label_costs Shape : (182, 9)\n",
      "(231, 9) (57, 9)\n",
      "person_sheet_valid Shape : (279, 9)\n",
      "person_sheet_valid_zeros Shape : (107, 9)\n",
      "person_sheet_valid_label_costs Shape : (172, 9)\n",
      "(224, 9) (55, 9)\n"
     ]
    },
    {
     "name": "stderr",
     "output_type": "stream",
     "text": [
      "13it [00:01,  8.82it/s]"
     ]
    },
    {
     "name": "stdout",
     "output_type": "stream",
     "text": [
      "person_sheet_valid Shape : (327, 9)\n",
      "person_sheet_valid_zeros Shape : (107, 9)\n",
      "person_sheet_valid_label_costs Shape : (220, 9)\n",
      "(262, 9) (65, 9)\n",
      "person_sheet_valid Shape : (289, 9)\n",
      "person_sheet_valid_zeros Shape : (108, 9)\n",
      "person_sheet_valid_label_costs Shape : (181, 9)\n",
      "(231, 9) (58, 9)\n",
      "person_sheet_valid Shape : (351, 9)\n",
      "person_sheet_valid_zeros Shape : (115, 9)\n",
      "person_sheet_valid_label_costs Shape : (236, 9)\n",
      "(281, 9) (70, 9)\n"
     ]
    },
    {
     "name": "stderr",
     "output_type": "stream",
     "text": [
      "16it [00:01,  8.98it/s]"
     ]
    },
    {
     "name": "stdout",
     "output_type": "stream",
     "text": [
      "person_sheet_valid Shape : (269, 9)\n",
      "person_sheet_valid_zeros Shape : (86, 9)\n",
      "person_sheet_valid_label_costs Shape : (183, 9)\n",
      "(215, 9) (54, 9)\n",
      "person_sheet_valid Shape : (391, 9)\n",
      "person_sheet_valid_zeros Shape : (156, 9)\n",
      "person_sheet_valid_label_costs Shape : (235, 9)\n",
      "(313, 9) (78, 9)\n",
      "person_sheet_valid Shape : (313, 9)\n",
      "person_sheet_valid_zeros Shape : (120, 9)\n",
      "person_sheet_valid_label_costs Shape : (193, 9)\n",
      "(250, 9) (63, 9)\n"
     ]
    },
    {
     "name": "stderr",
     "output_type": "stream",
     "text": [
      "18it [00:02,  8.42it/s]"
     ]
    },
    {
     "name": "stdout",
     "output_type": "stream",
     "text": [
      "person_sheet_valid Shape : (454, 9)\n",
      "person_sheet_valid_zeros Shape : (177, 9)\n",
      "person_sheet_valid_label_costs Shape : (277, 9)\n",
      "(364, 9) (90, 9)\n",
      "person_sheet_valid Shape : (260, 9)\n",
      "person_sheet_valid_zeros Shape : (103, 9)\n",
      "person_sheet_valid_label_costs Shape : (157, 9)\n",
      "(208, 9) (52, 9)\n"
     ]
    },
    {
     "name": "stderr",
     "output_type": "stream",
     "text": [
      "20it [00:02,  9.21it/s]"
     ]
    },
    {
     "name": "stdout",
     "output_type": "stream",
     "text": [
      "person_sheet_valid Shape : (307, 9)\n",
      "person_sheet_valid_zeros Shape : (120, 9)\n",
      "person_sheet_valid_label_costs Shape : (187, 9)\n",
      "(246, 9) (61, 9)\n",
      "person_sheet_valid Shape : (281, 9)\n",
      "person_sheet_valid_zeros Shape : (93, 9)\n",
      "person_sheet_valid_label_costs Shape : (188, 9)\n",
      "(224, 9) (57, 9)\n",
      "person_sheet_valid Shape : (336, 9)\n",
      "person_sheet_valid_zeros Shape : (119, 9)\n",
      "person_sheet_valid_label_costs Shape : (217, 9)\n",
      "(269, 9) (67, 9)\n"
     ]
    },
    {
     "name": "stderr",
     "output_type": "stream",
     "text": [
      "22it [00:02,  8.66it/s]\n"
     ]
    },
    {
     "name": "stdout",
     "output_type": "stream",
     "text": [
      "person_sheet_valid Shape : (382, 9)\n",
      "person_sheet_valid_zeros Shape : (138, 9)\n",
      "person_sheet_valid_label_costs Shape : (244, 9)\n",
      "(305, 9) (77, 9)\n"
     ]
    },
    {
     "name": "stderr",
     "output_type": "stream",
     "text": [
      "1it [00:00,  8.76it/s]"
     ]
    },
    {
     "name": "stdout",
     "output_type": "stream",
     "text": [
      "person_sheet_valid Shape : (281, 9)\n",
      "person_sheet_valid_zeros Shape : (128, 9)\n",
      "person_sheet_valid_label_costs Shape : (153, 9)\n",
      "(224, 9) (57, 9)\n"
     ]
    },
    {
     "name": "stderr",
     "output_type": "stream",
     "text": [
      "2it [00:00,  9.18it/s]"
     ]
    },
    {
     "name": "stdout",
     "output_type": "stream",
     "text": [
      "person_sheet_valid Shape : (280, 9)\n",
      "person_sheet_valid_zeros Shape : (130, 9)\n",
      "person_sheet_valid_label_costs Shape : (150, 9)\n",
      "(224, 9) (56, 9)\n"
     ]
    },
    {
     "name": "stderr",
     "output_type": "stream",
     "text": [
      "3it [00:00,  9.36it/s]"
     ]
    },
    {
     "name": "stdout",
     "output_type": "stream",
     "text": [
      "person_sheet_valid Shape : (259, 9)\n",
      "person_sheet_valid_zeros Shape : (112, 9)\n",
      "person_sheet_valid_label_costs Shape : (147, 9)\n",
      "(208, 9) (51, 9)\n"
     ]
    },
    {
     "name": "stderr",
     "output_type": "stream",
     "text": [
      "4it [00:00,  7.41it/s]"
     ]
    },
    {
     "name": "stdout",
     "output_type": "stream",
     "text": [
      "person_sheet_valid Shape : (257, 9)\n",
      "person_sheet_valid_zeros Shape : (123, 9)\n",
      "person_sheet_valid_label_costs Shape : (134, 9)\n",
      "(205, 9) (52, 9)\n"
     ]
    },
    {
     "name": "stderr",
     "output_type": "stream",
     "text": [
      "6it [00:00,  8.81it/s]"
     ]
    },
    {
     "name": "stdout",
     "output_type": "stream",
     "text": [
      "person_sheet_valid Shape : (271, 9)\n",
      "person_sheet_valid_zeros Shape : (135, 9)\n",
      "person_sheet_valid_label_costs Shape : (136, 9)\n",
      "(217, 9) (54, 9)\n",
      "person_sheet_valid Shape : (351, 9)\n",
      "person_sheet_valid_zeros Shape : (153, 9)\n",
      "person_sheet_valid_label_costs Shape : (198, 9)\n",
      "(280, 9) (71, 9)\n"
     ]
    },
    {
     "name": "stderr",
     "output_type": "stream",
     "text": [
      "8it [00:00,  8.19it/s]"
     ]
    },
    {
     "name": "stdout",
     "output_type": "stream",
     "text": [
      "person_sheet_valid Shape : (262, 9)\n",
      "person_sheet_valid_zeros Shape : (119, 9)\n",
      "person_sheet_valid_label_costs Shape : (143, 9)\n",
      "(209, 9) (53, 9)\n",
      "person_sheet_valid Shape : (333, 9)\n",
      "person_sheet_valid_zeros Shape : (128, 9)\n",
      "person_sheet_valid_label_costs Shape : (205, 9)\n",
      "(266, 9) (67, 9)\n"
     ]
    },
    {
     "name": "stderr",
     "output_type": "stream",
     "text": [
      "10it [00:01,  9.09it/s]"
     ]
    },
    {
     "name": "stdout",
     "output_type": "stream",
     "text": [
      "person_sheet_valid Shape : (342, 9)\n",
      "person_sheet_valid_zeros Shape : (156, 9)\n",
      "person_sheet_valid_label_costs Shape : (186, 9)\n",
      "(274, 9) (68, 9)\n",
      "person_sheet_valid Shape : (288, 9)\n",
      "person_sheet_valid_zeros Shape : (128, 9)\n",
      "person_sheet_valid_label_costs Shape : (160, 9)\n",
      "(230, 9) (58, 9)\n"
     ]
    },
    {
     "name": "stderr",
     "output_type": "stream",
     "text": [
      "11it [00:01,  8.63it/s]"
     ]
    },
    {
     "name": "stdout",
     "output_type": "stream",
     "text": [
      "person_sheet_valid Shape : (268, 9)\n",
      "person_sheet_valid_zeros Shape : (98, 9)\n",
      "person_sheet_valid_label_costs Shape : (170, 9)\n",
      "(214, 9) (54, 9)\n",
      "person_sheet_valid Shape : (336, 9)\n",
      "person_sheet_valid_zeros Shape : (129, 9)\n",
      "person_sheet_valid_label_costs Shape : (207, 9)\n",
      "(269, 9) (67, 9)\n"
     ]
    },
    {
     "name": "stderr",
     "output_type": "stream",
     "text": [
      "15it [00:01,  9.22it/s]"
     ]
    },
    {
     "name": "stdout",
     "output_type": "stream",
     "text": [
      "person_sheet_valid Shape : (275, 9)\n",
      "person_sheet_valid_zeros Shape : (98, 9)\n",
      "person_sheet_valid_label_costs Shape : (177, 9)\n",
      "(220, 9) (55, 9)\n",
      "person_sheet_valid Shape : (270, 9)\n",
      "person_sheet_valid_zeros Shape : (98, 9)\n",
      "person_sheet_valid_label_costs Shape : (172, 9)\n",
      "(216, 9) (54, 9)\n",
      "person_sheet_valid Shape : (272, 9)\n",
      "person_sheet_valid_zeros Shape : (96, 9)\n",
      "person_sheet_valid_label_costs Shape : (176, 9)\n",
      "(218, 9) (54, 9)\n"
     ]
    },
    {
     "name": "stderr",
     "output_type": "stream",
     "text": [
      "17it [00:01,  8.58it/s]"
     ]
    },
    {
     "name": "stdout",
     "output_type": "stream",
     "text": [
      "person_sheet_valid Shape : (275, 9)\n",
      "person_sheet_valid_zeros Shape : (96, 9)\n",
      "person_sheet_valid_label_costs Shape : (179, 9)\n",
      "(220, 9) (55, 9)\n",
      "person_sheet_valid Shape : (270, 9)\n",
      "person_sheet_valid_zeros Shape : (91, 9)\n",
      "person_sheet_valid_label_costs Shape : (179, 9)\n",
      "(216, 9) (54, 9)\n"
     ]
    },
    {
     "name": "stderr",
     "output_type": "stream",
     "text": [
      "20it [00:02,  9.55it/s]"
     ]
    },
    {
     "name": "stdout",
     "output_type": "stream",
     "text": [
      "person_sheet_valid Shape : (261, 9)\n",
      "person_sheet_valid_zeros Shape : (86, 9)\n",
      "person_sheet_valid_label_costs Shape : (175, 9)\n",
      "(209, 9) (52, 9)\n",
      "person_sheet_valid Shape : (258, 9)\n",
      "person_sheet_valid_zeros Shape : (89, 9)\n",
      "person_sheet_valid_label_costs Shape : (169, 9)\n",
      "(206, 9) (52, 9)\n",
      "person_sheet_valid Shape : (266, 9)\n",
      "person_sheet_valid_zeros Shape : (93, 9)\n",
      "person_sheet_valid_label_costs Shape : (173, 9)\n",
      "(212, 9) (54, 9)\n"
     ]
    },
    {
     "name": "stderr",
     "output_type": "stream",
     "text": [
      "22it [00:02,  8.78it/s]\n"
     ]
    },
    {
     "name": "stdout",
     "output_type": "stream",
     "text": [
      "person_sheet_valid Shape : (264, 9)\n",
      "person_sheet_valid_zeros Shape : (91, 9)\n",
      "person_sheet_valid_label_costs Shape : (173, 9)\n",
      "(211, 9) (53, 9)\n",
      "person_sheet_valid Shape : (272, 9)\n",
      "person_sheet_valid_zeros Shape : (90, 9)\n",
      "person_sheet_valid_label_costs Shape : (182, 9)\n",
      "(218, 9) (54, 9)\n"
     ]
    },
    {
     "name": "stderr",
     "output_type": "stream",
     "text": [
      "0it [00:00, ?it/s]"
     ]
    },
    {
     "name": "stdout",
     "output_type": "stream",
     "text": [
      "person_sheet_valid Shape : (373, 9)\n",
      "person_sheet_valid_zeros Shape : (169, 9)\n",
      "person_sheet_valid_label_costs Shape : (204, 9)\n"
     ]
    },
    {
     "name": "stderr",
     "output_type": "stream",
     "text": [
      "2it [00:00,  8.18it/s]"
     ]
    },
    {
     "name": "stdout",
     "output_type": "stream",
     "text": [
      "(298, 9) (75, 9)\n",
      "person_sheet_valid Shape : (261, 9)\n",
      "person_sheet_valid_zeros Shape : (111, 9)\n",
      "person_sheet_valid_label_costs Shape : (150, 9)\n",
      "(209, 9) (52, 9)\n"
     ]
    },
    {
     "name": "stderr",
     "output_type": "stream",
     "text": [
      "3it [00:00,  8.16it/s]"
     ]
    },
    {
     "name": "stdout",
     "output_type": "stream",
     "text": [
      "person_sheet_valid Shape : (263, 9)\n",
      "person_sheet_valid_zeros Shape : (118, 9)\n",
      "person_sheet_valid_label_costs Shape : (145, 9)\n",
      "(210, 9) (53, 9)\n",
      "person_sheet_valid Shape : (264, 9)\n",
      "person_sheet_valid_zeros Shape : (115, 9)\n",
      "person_sheet_valid_label_costs Shape : (149, 9)\n",
      "(211, 9) (53, 9)\n"
     ]
    },
    {
     "name": "stderr",
     "output_type": "stream",
     "text": [
      "7it [00:00,  9.05it/s]"
     ]
    },
    {
     "name": "stdout",
     "output_type": "stream",
     "text": [
      "person_sheet_valid Shape : (301, 9)\n",
      "person_sheet_valid_zeros Shape : (119, 9)\n",
      "person_sheet_valid_label_costs Shape : (182, 9)\n",
      "(241, 9) (60, 9)\n",
      "person_sheet_valid Shape : (278, 9)\n",
      "person_sheet_valid_zeros Shape : (104, 9)\n",
      "person_sheet_valid_label_costs Shape : (174, 9)\n",
      "(222, 9) (56, 9)\n",
      "person_sheet_valid Shape : (249, 9)\n",
      "person_sheet_valid_zeros Shape : (105, 9)\n",
      "person_sheet_valid_label_costs Shape : (144, 9)\n",
      "(199, 9) (31, 9)\n"
     ]
    },
    {
     "name": "stderr",
     "output_type": "stream",
     "text": [
      "8it [00:00,  8.35it/s]"
     ]
    },
    {
     "name": "stdout",
     "output_type": "stream",
     "text": [
      "person_sheet_valid Shape : (249, 9)\n",
      "person_sheet_valid_zeros Shape : (105, 9)\n",
      "person_sheet_valid_label_costs Shape : (144, 9)\n",
      "(199, 9) (50, 9)\n",
      "person_sheet_valid Shape : (262, 9)\n",
      "person_sheet_valid_zeros Shape : (115, 9)\n",
      "person_sheet_valid_label_costs Shape : (147, 9)\n",
      "(210, 9) (52, 9)\n"
     ]
    },
    {
     "name": "stderr",
     "output_type": "stream",
     "text": [
      "11it [00:01,  8.50it/s]"
     ]
    },
    {
     "name": "stdout",
     "output_type": "stream",
     "text": [
      "person_sheet_valid Shape : (259, 9)\n",
      "person_sheet_valid_zeros Shape : (112, 9)\n",
      "person_sheet_valid_label_costs Shape : (147, 9)\n",
      "(208, 9) (51, 9)\n",
      "person_sheet_valid Shape : (303, 9)\n",
      "person_sheet_valid_zeros Shape : (133, 9)\n",
      "person_sheet_valid_label_costs Shape : (170, 9)\n",
      "(242, 9) (61, 9)\n",
      "person_sheet_valid Shape : (264, 9)\n",
      "person_sheet_valid_zeros Shape : (116, 9)\n",
      "person_sheet_valid_label_costs Shape : (148, 9)\n"
     ]
    },
    {
     "name": "stderr",
     "output_type": "stream",
     "text": [
      "13it [00:01,  8.16it/s]"
     ]
    },
    {
     "name": "stdout",
     "output_type": "stream",
     "text": [
      "(211, 9) (53, 9)\n",
      "person_sheet_valid Shape : (265, 9)\n",
      "person_sheet_valid_zeros Shape : (102, 9)\n",
      "person_sheet_valid_label_costs Shape : (163, 9)\n",
      "(212, 9) (53, 9)\n"
     ]
    },
    {
     "name": "stderr",
     "output_type": "stream",
     "text": [
      "15it [00:01,  8.78it/s]"
     ]
    },
    {
     "name": "stdout",
     "output_type": "stream",
     "text": [
      "person_sheet_valid Shape : (247, 9)\n",
      "person_sheet_valid_zeros Shape : (96, 9)\n",
      "person_sheet_valid_label_costs Shape : (151, 9)\n",
      "(198, 9) (49, 9)\n",
      "person_sheet_valid Shape : (254, 9)\n",
      "person_sheet_valid_zeros Shape : (109, 9)\n",
      "person_sheet_valid_label_costs Shape : (145, 9)\n",
      "(203, 9) (51, 9)\n"
     ]
    },
    {
     "name": "stderr",
     "output_type": "stream",
     "text": [
      "17it [00:02,  8.15it/s]"
     ]
    },
    {
     "name": "stdout",
     "output_type": "stream",
     "text": [
      "person_sheet_valid Shape : (251, 9)\n",
      "person_sheet_valid_zeros Shape : (112, 9)\n",
      "person_sheet_valid_label_costs Shape : (139, 9)\n",
      "(201, 9) (50, 9)\n",
      "person_sheet_valid Shape : (252, 9)\n",
      "person_sheet_valid_zeros Shape : (109, 9)\n",
      "person_sheet_valid_label_costs Shape : (143, 9)\n",
      "(201, 9) (51, 9)\n",
      "person_sheet_valid Shape : (243, 9)\n",
      "person_sheet_valid_zeros Shape : (108, 9)\n",
      "person_sheet_valid_label_costs Shape : (135, 9)\n"
     ]
    },
    {
     "name": "stderr",
     "output_type": "stream",
     "text": [
      "19it [00:02,  8.20it/s]"
     ]
    },
    {
     "name": "stdout",
     "output_type": "stream",
     "text": [
      "(194, 9) (49, 9)\n",
      "person_sheet_valid Shape : (267, 9)\n",
      "person_sheet_valid_zeros Shape : (123, 9)\n",
      "person_sheet_valid_label_costs Shape : (144, 9)\n",
      "(213, 9) (54, 9)\n"
     ]
    },
    {
     "name": "stderr",
     "output_type": "stream",
     "text": [
      "21it [00:02,  8.90it/s]"
     ]
    },
    {
     "name": "stdout",
     "output_type": "stream",
     "text": [
      "person_sheet_valid Shape : (249, 9)\n",
      "person_sheet_valid_zeros Shape : (114, 9)\n",
      "person_sheet_valid_label_costs Shape : (135, 9)\n",
      "(199, 9) (50, 9)\n",
      "person_sheet_valid Shape : (242, 9)\n",
      "person_sheet_valid_zeros Shape : (106, 9)\n",
      "person_sheet_valid_label_costs Shape : (136, 9)\n",
      "(194, 9) (48, 9)\n"
     ]
    },
    {
     "name": "stderr",
     "output_type": "stream",
     "text": [
      "22it [00:02,  8.36it/s]\n"
     ]
    },
    {
     "name": "stdout",
     "output_type": "stream",
     "text": [
      "person_sheet_valid Shape : (250, 9)\n",
      "person_sheet_valid_zeros Shape : (99, 9)\n",
      "person_sheet_valid_label_costs Shape : (151, 9)\n",
      "(200, 9) (50, 9)\n"
     ]
    },
    {
     "name": "stderr",
     "output_type": "stream",
     "text": [
      "0it [00:00, ?it/s]"
     ]
    },
    {
     "name": "stdout",
     "output_type": "stream",
     "text": [
      "person_sheet_valid Shape : (269, 9)\n",
      "person_sheet_valid_zeros Shape : (126, 9)\n",
      "person_sheet_valid_label_costs Shape : (143, 9)\n",
      "(215, 9) (54, 9)\n",
      "person_sheet_valid Shape : (374, 9)\n",
      "person_sheet_valid_zeros Shape : (196, 9)\n",
      "person_sheet_valid_label_costs Shape : (178, 9)\n"
     ]
    },
    {
     "name": "stderr",
     "output_type": "stream",
     "text": [
      "2it [00:00, 10.11it/s]"
     ]
    },
    {
     "name": "stdout",
     "output_type": "stream",
     "text": [
      "(299, 9) (75, 9)\n",
      "person_sheet_valid Shape : (292, 9)\n",
      "person_sheet_valid_zeros Shape : (164, 9)\n",
      "person_sheet_valid_label_costs Shape : (128, 9)\n",
      "(233, 9) (59, 9)\n"
     ]
    },
    {
     "name": "stderr",
     "output_type": "stream",
     "text": [
      "4it [00:00,  8.63it/s]"
     ]
    },
    {
     "name": "stdout",
     "output_type": "stream",
     "text": [
      "person_sheet_valid Shape : (421, 9)\n",
      "person_sheet_valid_zeros Shape : (218, 9)\n",
      "person_sheet_valid_label_costs Shape : (203, 9)\n",
      "(336, 9) (85, 9)\n",
      "person_sheet_valid Shape : (367, 9)\n",
      "person_sheet_valid_zeros Shape : (177, 9)\n",
      "person_sheet_valid_label_costs Shape : (190, 9)\n"
     ]
    },
    {
     "name": "stderr",
     "output_type": "stream",
     "text": [
      "5it [00:00,  8.67it/s]"
     ]
    },
    {
     "name": "stdout",
     "output_type": "stream",
     "text": [
      "(294, 9) (73, 9)\n"
     ]
    },
    {
     "name": "stderr",
     "output_type": "stream",
     "text": [
      "6it [00:00,  7.50it/s]"
     ]
    },
    {
     "name": "stdout",
     "output_type": "stream",
     "text": [
      "person_sheet_valid Shape : (282, 9)\n",
      "person_sheet_valid_zeros Shape : (134, 9)\n",
      "person_sheet_valid_label_costs Shape : (148, 9)\n",
      "(225, 9) (57, 9)\n",
      "person_sheet_valid Shape : (257, 9)\n",
      "person_sheet_valid_zeros Shape : (132, 9)\n",
      "person_sheet_valid_label_costs Shape : (125, 9)\n",
      "(206, 9) (51, 9)\n"
     ]
    },
    {
     "name": "stderr",
     "output_type": "stream",
     "text": [
      "8it [00:00,  7.77it/s]"
     ]
    },
    {
     "name": "stdout",
     "output_type": "stream",
     "text": [
      "person_sheet_valid Shape : (312, 9)\n",
      "person_sheet_valid_zeros Shape : (162, 9)\n",
      "person_sheet_valid_label_costs Shape : (150, 9)\n",
      "(250, 9) (62, 9)\n"
     ]
    },
    {
     "name": "stderr",
     "output_type": "stream",
     "text": [
      "10it [00:01,  8.72it/s]"
     ]
    },
    {
     "name": "stdout",
     "output_type": "stream",
     "text": [
      "person_sheet_valid Shape : (263, 9)\n",
      "person_sheet_valid_zeros Shape : (142, 9)\n",
      "person_sheet_valid_label_costs Shape : (121, 9)\n",
      "(211, 9) (52, 9)\n",
      "person_sheet_valid Shape : (248, 9)\n",
      "person_sheet_valid_zeros Shape : (128, 9)\n",
      "person_sheet_valid_label_costs Shape : (120, 9)\n",
      "(198, 9) (50, 9)\n"
     ]
    },
    {
     "name": "stderr",
     "output_type": "stream",
     "text": [
      "12it [00:01,  8.23it/s]"
     ]
    },
    {
     "name": "stdout",
     "output_type": "stream",
     "text": [
      "person_sheet_valid Shape : (379, 9)\n",
      "person_sheet_valid_zeros Shape : (190, 9)\n",
      "person_sheet_valid_label_costs Shape : (189, 9)\n",
      "(303, 9) (76, 9)\n",
      "person_sheet_valid Shape : (306, 9)\n",
      "person_sheet_valid_zeros Shape : (156, 9)\n",
      "person_sheet_valid_label_costs Shape : (150, 9)\n",
      "(245, 9) (61, 9)\n"
     ]
    },
    {
     "name": "stderr",
     "output_type": "stream",
     "text": [
      "14it [00:01,  8.26it/s]"
     ]
    },
    {
     "name": "stdout",
     "output_type": "stream",
     "text": [
      "person_sheet_valid Shape : (266, 9)\n",
      "person_sheet_valid_zeros Shape : (143, 9)\n",
      "person_sheet_valid_label_costs Shape : (123, 9)\n",
      "(212, 9) (54, 9)\n",
      "person_sheet_valid Shape : (264, 9)\n",
      "person_sheet_valid_zeros Shape : (117, 9)\n",
      "person_sheet_valid_label_costs Shape : (147, 9)\n",
      "(212, 9) (52, 9)\n"
     ]
    },
    {
     "name": "stderr",
     "output_type": "stream",
     "text": [
      "15it [00:01,  8.54it/s]"
     ]
    },
    {
     "name": "stdout",
     "output_type": "stream",
     "text": [
      "person_sheet_valid Shape : (259, 9)\n",
      "person_sheet_valid_zeros Shape : (119, 9)\n",
      "person_sheet_valid_label_costs Shape : (140, 9)\n",
      "(207, 9) (52, 9)\n",
      "person_sheet_valid Shape : (255, 9)\n",
      "person_sheet_valid_zeros Shape : (115, 9)\n",
      "person_sheet_valid_label_costs Shape : (140, 9)\n",
      "(204, 9) (51, 9)\n"
     ]
    },
    {
     "name": "stderr",
     "output_type": "stream",
     "text": [
      "17it [00:02,  8.33it/s]"
     ]
    },
    {
     "name": "stdout",
     "output_type": "stream",
     "text": [
      "person_sheet_valid Shape : (263, 9)\n",
      "person_sheet_valid_zeros Shape : (122, 9)\n",
      "person_sheet_valid_label_costs Shape : (141, 9)\n",
      "(211, 9) (52, 9)\n",
      "person_sheet_valid Shape : (289, 9)\n",
      "person_sheet_valid_zeros Shape : (148, 9)\n",
      "person_sheet_valid_label_costs Shape : (141, 9)\n",
      "(231, 9) (58, 9)\n"
     ]
    },
    {
     "name": "stderr",
     "output_type": "stream",
     "text": [
      "20it [00:02,  8.36it/s]"
     ]
    },
    {
     "name": "stdout",
     "output_type": "stream",
     "text": [
      "person_sheet_valid Shape : (269, 9)\n",
      "person_sheet_valid_zeros Shape : (128, 9)\n",
      "person_sheet_valid_label_costs Shape : (141, 9)\n",
      "(215, 9) (54, 9)\n",
      "person_sheet_valid Shape : (268, 9)\n",
      "person_sheet_valid_zeros Shape : (139, 9)\n",
      "person_sheet_valid_label_costs Shape : (129, 9)\n",
      "(214, 9) (54, 9)\n"
     ]
    },
    {
     "name": "stderr",
     "output_type": "stream",
     "text": [
      "22it [00:02,  8.20it/s]\n"
     ]
    },
    {
     "name": "stdout",
     "output_type": "stream",
     "text": [
      "person_sheet_valid Shape : (262, 9)\n",
      "person_sheet_valid_zeros Shape : (139, 9)\n",
      "person_sheet_valid_label_costs Shape : (123, 9)\n",
      "(209, 9) (53, 9)\n",
      "person_sheet_valid Shape : (380, 9)\n",
      "person_sheet_valid_zeros Shape : (184, 9)\n",
      "person_sheet_valid_label_costs Shape : (196, 9)\n",
      "(304, 9) (76, 9)\n"
     ]
    },
    {
     "name": "stderr",
     "output_type": "stream",
     "text": [
      "3it [00:00, 10.00it/s]"
     ]
    },
    {
     "name": "stdout",
     "output_type": "stream",
     "text": [
      "person_sheet_valid Shape : (274, 9)\n",
      "person_sheet_valid_zeros Shape : (142, 9)\n",
      "person_sheet_valid_label_costs Shape : (132, 9)\n",
      "(220, 9) (54, 9)\n",
      "person_sheet_valid Shape : (264, 9)\n",
      "person_sheet_valid_zeros Shape : (117, 9)\n",
      "person_sheet_valid_label_costs Shape : (147, 9)\n",
      "(212, 9) (52, 9)\n",
      "person_sheet_valid Shape : (252, 9)\n",
      "person_sheet_valid_zeros Shape : (117, 9)\n",
      "person_sheet_valid_label_costs Shape : (135, 9)\n",
      "(202, 9) (50, 9)\n"
     ]
    },
    {
     "name": "stderr",
     "output_type": "stream",
     "text": [
      "6it [00:00,  9.51it/s]"
     ]
    },
    {
     "name": "stdout",
     "output_type": "stream",
     "text": [
      "person_sheet_valid Shape : (254, 9)\n",
      "person_sheet_valid_zeros Shape : (117, 9)\n",
      "person_sheet_valid_label_costs Shape : (137, 9)\n",
      "(204, 9) (50, 9)\n",
      "person_sheet_valid Shape : (257, 9)\n",
      "person_sheet_valid_zeros Shape : (112, 9)\n",
      "person_sheet_valid_label_costs Shape : (145, 9)\n",
      "(206, 9) (51, 9)\n",
      "person_sheet_valid Shape : (289, 9)\n",
      "person_sheet_valid_zeros Shape : (132, 9)\n",
      "person_sheet_valid_label_costs Shape : (157, 9)\n",
      "(232, 9) (57, 9)\n"
     ]
    },
    {
     "name": "stderr",
     "output_type": "stream",
     "text": [
      "8it [00:00,  9.93it/s]"
     ]
    },
    {
     "name": "stdout",
     "output_type": "stream",
     "text": [
      "person_sheet_valid Shape : (253, 9)\n",
      "person_sheet_valid_zeros Shape : (130, 9)\n",
      "person_sheet_valid_label_costs Shape : (123, 9)\n",
      "(202, 9) (51, 9)\n",
      "person_sheet_valid Shape : (249, 9)\n",
      "person_sheet_valid_zeros Shape : (102, 9)\n",
      "person_sheet_valid_label_costs Shape : (147, 9)\n",
      "(200, 9) (49, 9)\n"
     ]
    },
    {
     "name": "stderr",
     "output_type": "stream",
     "text": [
      "11it [00:01,  9.52it/s]"
     ]
    },
    {
     "name": "stdout",
     "output_type": "stream",
     "text": [
      "person_sheet_valid Shape : (328, 9)\n",
      "person_sheet_valid_zeros Shape : (165, 9)\n",
      "person_sheet_valid_label_costs Shape : (163, 9)\n",
      "(262, 9) (66, 9)\n",
      "person_sheet_valid Shape : (272, 9)\n",
      "person_sheet_valid_zeros Shape : (126, 9)\n",
      "person_sheet_valid_label_costs Shape : (146, 9)\n",
      "(218, 9) (54, 9)\n",
      "person_sheet_valid Shape : (285, 9)\n",
      "person_sheet_valid_zeros Shape : (145, 9)\n",
      "person_sheet_valid_label_costs Shape : (140, 9)\n",
      "(228, 9) (57, 9)\n"
     ]
    },
    {
     "name": "stderr",
     "output_type": "stream",
     "text": [
      "13it [00:01,  9.08it/s]"
     ]
    },
    {
     "name": "stdout",
     "output_type": "stream",
     "text": [
      "person_sheet_valid Shape : (265, 9)\n",
      "person_sheet_valid_zeros Shape : (113, 9)\n",
      "person_sheet_valid_label_costs Shape : (152, 9)\n",
      "(212, 9) (53, 9)\n",
      "person_sheet_valid Shape : (312, 9)\n",
      "person_sheet_valid_zeros Shape : (157, 9)\n",
      "person_sheet_valid_label_costs Shape : (155, 9)\n",
      "(250, 9) (62, 9)\n"
     ]
    },
    {
     "name": "stderr",
     "output_type": "stream",
     "text": [
      "15it [00:01,  9.49it/s]"
     ]
    },
    {
     "name": "stdout",
     "output_type": "stream",
     "text": [
      "person_sheet_valid Shape : (305, 9)\n",
      "person_sheet_valid_zeros Shape : (136, 9)\n",
      "person_sheet_valid_label_costs Shape : (169, 9)\n",
      "(244, 9) (61, 9)\n",
      "person_sheet_valid Shape : (265, 9)\n",
      "person_sheet_valid_zeros Shape : (111, 9)\n",
      "person_sheet_valid_label_costs Shape : (154, 9)\n",
      "(212, 9) (53, 9)\n",
      "person_sheet_valid Shape : (356, 9)\n",
      "person_sheet_valid_zeros Shape : (173, 9)\n",
      "person_sheet_valid_label_costs Shape : (183, 9)\n",
      "(284, 9) (72, 9)\n"
     ]
    },
    {
     "name": "stderr",
     "output_type": "stream",
     "text": [
      "19it [00:02,  9.47it/s]"
     ]
    },
    {
     "name": "stdout",
     "output_type": "stream",
     "text": [
      "person_sheet_valid Shape : (318, 9)\n",
      "person_sheet_valid_zeros Shape : (145, 9)\n",
      "person_sheet_valid_label_costs Shape : (173, 9)\n",
      "(254, 9) (64, 9)\n",
      "person_sheet_valid Shape : (259, 9)\n",
      "person_sheet_valid_zeros Shape : (140, 9)\n",
      "person_sheet_valid_label_costs Shape : (119, 9)\n",
      "(207, 9) (52, 9)\n",
      "person_sheet_valid Shape : (286, 9)\n",
      "person_sheet_valid_zeros Shape : (142, 9)\n",
      "person_sheet_valid_label_costs Shape : (144, 9)\n",
      "(229, 9) (57, 9)\n"
     ]
    },
    {
     "name": "stderr",
     "output_type": "stream",
     "text": [
      "21it [00:02,  8.79it/s]"
     ]
    },
    {
     "name": "stdout",
     "output_type": "stream",
     "text": [
      "person_sheet_valid Shape : (322, 9)\n",
      "person_sheet_valid_zeros Shape : (184, 9)\n",
      "person_sheet_valid_label_costs Shape : (138, 9)\n",
      "(257, 9) (65, 9)\n",
      "person_sheet_valid Shape : (287, 9)\n",
      "person_sheet_valid_zeros Shape : (148, 9)\n",
      "person_sheet_valid_label_costs Shape : (139, 9)\n",
      "(229, 9) (58, 9)\n"
     ]
    },
    {
     "name": "stderr",
     "output_type": "stream",
     "text": [
      "22it [00:02,  9.21it/s]\n"
     ]
    },
    {
     "name": "stdout",
     "output_type": "stream",
     "text": [
      "person_sheet_valid Shape : (313, 9)\n",
      "person_sheet_valid_zeros Shape : (153, 9)\n",
      "person_sheet_valid_label_costs Shape : (160, 9)\n",
      "(250, 9) (63, 9)\n"
     ]
    },
    {
     "name": "stderr",
     "output_type": "stream",
     "text": [
      "1it [00:00,  6.69it/s]"
     ]
    },
    {
     "name": "stdout",
     "output_type": "stream",
     "text": [
      "person_sheet_valid Shape : (523, 9)\n",
      "person_sheet_valid_zeros Shape : (189, 9)\n",
      "person_sheet_valid_label_costs Shape : (334, 9)\n",
      "(418, 9) (105, 9)\n"
     ]
    },
    {
     "name": "stderr",
     "output_type": "stream",
     "text": [
      "2it [00:00,  7.95it/s]"
     ]
    },
    {
     "name": "stdout",
     "output_type": "stream",
     "text": [
      "person_sheet_valid Shape : (468, 9)\n",
      "person_sheet_valid_zeros Shape : (177, 9)\n",
      "person_sheet_valid_label_costs Shape : (291, 9)\n",
      "(375, 9) (93, 9)\n",
      "person_sheet_valid Shape : (343, 9)\n",
      "person_sheet_valid_zeros Shape : (119, 9)\n",
      "person_sheet_valid_label_costs Shape : (224, 9)\n",
      "(274, 9) (69, 9)\n"
     ]
    },
    {
     "name": "stderr",
     "output_type": "stream",
     "text": [
      "4it [00:00,  7.14it/s]"
     ]
    },
    {
     "name": "stdout",
     "output_type": "stream",
     "text": [
      "person_sheet_valid Shape : (350, 9)\n",
      "person_sheet_valid_zeros Shape : (138, 9)\n",
      "person_sheet_valid_label_costs Shape : (212, 9)\n",
      "(280, 9) (70, 9)\n"
     ]
    },
    {
     "name": "stderr",
     "output_type": "stream",
     "text": [
      "5it [00:00,  7.87it/s]"
     ]
    },
    {
     "name": "stdout",
     "output_type": "stream",
     "text": [
      "person_sheet_valid Shape : (338, 9)\n",
      "person_sheet_valid_zeros Shape : (128, 9)\n",
      "person_sheet_valid_label_costs Shape : (210, 9)\n",
      "(270, 9) (68, 9)\n"
     ]
    },
    {
     "name": "stderr",
     "output_type": "stream",
     "text": [
      "6it [00:00,  6.81it/s]"
     ]
    },
    {
     "name": "stdout",
     "output_type": "stream",
     "text": [
      "person_sheet_valid Shape : (349, 9)\n",
      "person_sheet_valid_zeros Shape : (132, 9)\n",
      "person_sheet_valid_label_costs Shape : (217, 9)\n",
      "(280, 9) (69, 9)\n"
     ]
    },
    {
     "name": "stderr",
     "output_type": "stream",
     "text": [
      "7it [00:00,  7.55it/s]"
     ]
    },
    {
     "name": "stdout",
     "output_type": "stream",
     "text": [
      "person_sheet_valid Shape : (340, 9)\n",
      "person_sheet_valid_zeros Shape : (136, 9)\n",
      "person_sheet_valid_label_costs Shape : (204, 9)\n",
      "(272, 9) (68, 9)\n"
     ]
    },
    {
     "name": "stderr",
     "output_type": "stream",
     "text": [
      "8it [00:01,  7.80it/s]"
     ]
    },
    {
     "name": "stdout",
     "output_type": "stream",
     "text": [
      "person_sheet_valid Shape : (536, 9)\n",
      "person_sheet_valid_zeros Shape : (194, 9)\n",
      "person_sheet_valid_label_costs Shape : (342, 9)\n",
      "(429, 9) (107, 9)\n"
     ]
    },
    {
     "name": "stderr",
     "output_type": "stream",
     "text": [
      "9it [00:01,  8.28it/s]"
     ]
    },
    {
     "name": "stdout",
     "output_type": "stream",
     "text": [
      "person_sheet_valid Shape : (402, 9)\n",
      "person_sheet_valid_zeros Shape : (178, 9)\n",
      "person_sheet_valid_label_costs Shape : (224, 9)\n",
      "(321, 9) (81, 9)\n"
     ]
    },
    {
     "name": "stderr",
     "output_type": "stream",
     "text": [
      "10it [00:01,  7.65it/s]"
     ]
    },
    {
     "name": "stdout",
     "output_type": "stream",
     "text": [
      "person_sheet_valid Shape : (338, 9)\n",
      "person_sheet_valid_zeros Shape : (133, 9)\n",
      "person_sheet_valid_label_costs Shape : (205, 9)\n",
      "(270, 9) (68, 9)\n"
     ]
    },
    {
     "name": "stderr",
     "output_type": "stream",
     "text": [
      "11it [00:01,  7.57it/s]"
     ]
    },
    {
     "name": "stdout",
     "output_type": "stream",
     "text": [
      "person_sheet_valid Shape : (344, 9)\n",
      "person_sheet_valid_zeros Shape : (128, 9)\n",
      "person_sheet_valid_label_costs Shape : (216, 9)\n",
      "(275, 9) (69, 9)\n"
     ]
    },
    {
     "name": "stderr",
     "output_type": "stream",
     "text": [
      "12it [00:01,  7.98it/s]"
     ]
    },
    {
     "name": "stdout",
     "output_type": "stream",
     "text": [
      "person_sheet_valid Shape : (342, 9)\n",
      "person_sheet_valid_zeros Shape : (156, 9)\n",
      "person_sheet_valid_label_costs Shape : (186, 9)\n",
      "(274, 9) (68, 9)\n"
     ]
    },
    {
     "name": "stderr",
     "output_type": "stream",
     "text": [
      "13it [00:01,  8.39it/s]"
     ]
    },
    {
     "name": "stdout",
     "output_type": "stream",
     "text": [
      "person_sheet_valid Shape : (293, 9)\n",
      "person_sheet_valid_zeros Shape : (118, 9)\n",
      "person_sheet_valid_label_costs Shape : (175, 9)\n",
      "(234, 9) (59, 9)\n"
     ]
    },
    {
     "name": "stderr",
     "output_type": "stream",
     "text": [
      "14it [00:01,  7.79it/s]"
     ]
    },
    {
     "name": "stdout",
     "output_type": "stream",
     "text": [
      "person_sheet_valid Shape : (336, 9)\n",
      "person_sheet_valid_zeros Shape : (127, 9)\n",
      "person_sheet_valid_label_costs Shape : (209, 9)\n",
      "(269, 9) (67, 9)\n"
     ]
    },
    {
     "name": "stderr",
     "output_type": "stream",
     "text": [
      "15it [00:01,  8.31it/s]"
     ]
    },
    {
     "name": "stdout",
     "output_type": "stream",
     "text": [
      "person_sheet_valid Shape : (283, 9)\n",
      "person_sheet_valid_zeros Shape : (111, 9)\n",
      "person_sheet_valid_label_costs Shape : (172, 9)\n",
      "(227, 9) (56, 9)\n"
     ]
    },
    {
     "name": "stderr",
     "output_type": "stream",
     "text": [
      "16it [00:02,  7.90it/s]"
     ]
    },
    {
     "name": "stdout",
     "output_type": "stream",
     "text": [
      "person_sheet_valid Shape : (335, 9)\n",
      "person_sheet_valid_zeros Shape : (135, 9)\n",
      "person_sheet_valid_label_costs Shape : (200, 9)\n",
      "(268, 9) (67, 9)\n"
     ]
    },
    {
     "name": "stderr",
     "output_type": "stream",
     "text": [
      "17it [00:02,  8.34it/s]"
     ]
    },
    {
     "name": "stdout",
     "output_type": "stream",
     "text": [
      "person_sheet_valid Shape : (339, 9)\n",
      "person_sheet_valid_zeros Shape : (126, 9)\n",
      "person_sheet_valid_label_costs Shape : (213, 9)\n",
      "(271, 9) (68, 9)\n",
      "person_sheet_valid Shape : (339, 9)\n",
      "person_sheet_valid_zeros Shape : (133, 9)\n",
      "person_sheet_valid_label_costs Shape : (206, 9)\n"
     ]
    },
    {
     "name": "stderr",
     "output_type": "stream",
     "text": [
      "18it [00:02,  8.69it/s]"
     ]
    },
    {
     "name": "stdout",
     "output_type": "stream",
     "text": [
      "(271, 9) (68, 9)\n"
     ]
    },
    {
     "name": "stderr",
     "output_type": "stream",
     "text": [
      "19it [00:02,  7.90it/s]"
     ]
    },
    {
     "name": "stdout",
     "output_type": "stream",
     "text": [
      "person_sheet_valid Shape : (329, 9)\n",
      "person_sheet_valid_zeros Shape : (130, 9)\n",
      "person_sheet_valid_label_costs Shape : (199, 9)\n",
      "(263, 9) (66, 9)\n"
     ]
    },
    {
     "name": "stderr",
     "output_type": "stream",
     "text": [
      "20it [00:02,  7.77it/s]"
     ]
    },
    {
     "name": "stdout",
     "output_type": "stream",
     "text": [
      "person_sheet_valid Shape : (393, 9)\n",
      "person_sheet_valid_zeros Shape : (163, 9)\n",
      "person_sheet_valid_label_costs Shape : (230, 9)\n",
      "(314, 9) (79, 9)\n"
     ]
    },
    {
     "name": "stderr",
     "output_type": "stream",
     "text": [
      "21it [00:02,  8.24it/s]"
     ]
    },
    {
     "name": "stdout",
     "output_type": "stream",
     "text": [
      "person_sheet_valid Shape : (323, 9)\n",
      "person_sheet_valid_zeros Shape : (124, 9)\n",
      "person_sheet_valid_label_costs Shape : (199, 9)\n",
      "(258, 9) (65, 9)\n"
     ]
    },
    {
     "name": "stderr",
     "output_type": "stream",
     "text": [
      "22it [00:02,  7.77it/s]\n"
     ]
    },
    {
     "name": "stdout",
     "output_type": "stream",
     "text": [
      "person_sheet_valid Shape : (330, 9)\n",
      "person_sheet_valid_zeros Shape : (117, 9)\n",
      "person_sheet_valid_label_costs Shape : (213, 9)\n",
      "(264, 9) (66, 9)\n"
     ]
    },
    {
     "name": "stderr",
     "output_type": "stream",
     "text": [
      "2it [00:00, 10.52it/s]"
     ]
    },
    {
     "name": "stdout",
     "output_type": "stream",
     "text": [
      "person_sheet_valid Shape : (340, 9)\n",
      "person_sheet_valid_zeros Shape : (155, 9)\n",
      "person_sheet_valid_label_costs Shape : (185, 9)\n",
      "(272, 9) (68, 9)\n",
      "person_sheet_valid Shape : (285, 9)\n",
      "person_sheet_valid_zeros Shape : (137, 9)\n",
      "person_sheet_valid_label_costs Shape : (148, 9)\n",
      "(228, 9) (57, 9)\n",
      "person_sheet_valid Shape : (314, 9)\n",
      "person_sheet_valid_zeros Shape : (145, 9)\n",
      "person_sheet_valid_label_costs Shape : (169, 9)\n"
     ]
    },
    {
     "name": "stderr",
     "output_type": "stream",
     "text": [
      "4it [00:00,  8.34it/s]"
     ]
    },
    {
     "name": "stdout",
     "output_type": "stream",
     "text": [
      "(251, 9) (63, 9)\n",
      "person_sheet_valid Shape : (325, 9)\n",
      "person_sheet_valid_zeros Shape : (147, 9)\n",
      "person_sheet_valid_label_costs Shape : (178, 9)\n",
      "(260, 9) (65, 9)\n"
     ]
    },
    {
     "name": "stderr",
     "output_type": "stream",
     "text": [
      "6it [00:00,  9.23it/s]"
     ]
    },
    {
     "name": "stdout",
     "output_type": "stream",
     "text": [
      "person_sheet_valid Shape : (267, 9)\n",
      "person_sheet_valid_zeros Shape : (114, 9)\n",
      "person_sheet_valid_label_costs Shape : (153, 9)\n",
      "(213, 9) (54, 9)\n",
      "person_sheet_valid Shape : (291, 9)\n",
      "person_sheet_valid_zeros Shape : (119, 9)\n",
      "person_sheet_valid_label_costs Shape : (172, 9)\n",
      "(233, 9) (58, 9)\n",
      "person_sheet_valid Shape : (309, 9)\n",
      "person_sheet_valid_zeros Shape : (144, 9)\n",
      "person_sheet_valid_label_costs Shape : (165, 9)\n"
     ]
    },
    {
     "name": "stderr",
     "output_type": "stream",
     "text": [
      "7it [00:00,  9.26it/s]"
     ]
    },
    {
     "name": "stdout",
     "output_type": "stream",
     "text": [
      "(247, 9) (62, 9)\n",
      "person_sheet_valid Shape : (275, 9)\n",
      "person_sheet_valid_zeros Shape : (113, 9)\n",
      "person_sheet_valid_label_costs Shape : (162, 9)\n",
      "(220, 9) (55, 9)\n"
     ]
    },
    {
     "name": "stderr",
     "output_type": "stream",
     "text": [
      "11it [00:01,  9.46it/s]"
     ]
    },
    {
     "name": "stdout",
     "output_type": "stream",
     "text": [
      "person_sheet_valid Shape : (294, 9)\n",
      "person_sheet_valid_zeros Shape : (117, 9)\n",
      "person_sheet_valid_label_costs Shape : (177, 9)\n",
      "(236, 9) (58, 9)\n",
      "person_sheet_valid Shape : (284, 9)\n",
      "person_sheet_valid_zeros Shape : (144, 9)\n",
      "person_sheet_valid_label_costs Shape : (140, 9)\n",
      "(227, 9) (57, 9)\n",
      "person_sheet_valid Shape : (340, 9)\n",
      "person_sheet_valid_zeros Shape : (149, 9)\n",
      "person_sheet_valid_label_costs Shape : (191, 9)\n",
      "(272, 9) (68, 9)\n"
     ]
    },
    {
     "name": "stderr",
     "output_type": "stream",
     "text": [
      "13it [00:01,  9.07it/s]"
     ]
    },
    {
     "name": "stdout",
     "output_type": "stream",
     "text": [
      "person_sheet_valid Shape : (287, 9)\n",
      "person_sheet_valid_zeros Shape : (105, 9)\n",
      "person_sheet_valid_label_costs Shape : (182, 9)\n",
      "(230, 9) (57, 9)\n",
      "person_sheet_valid Shape : (283, 9)\n",
      "person_sheet_valid_zeros Shape : (114, 9)\n",
      "person_sheet_valid_label_costs Shape : (169, 9)\n",
      "(226, 9) (57, 9)\n"
     ]
    },
    {
     "name": "stderr",
     "output_type": "stream",
     "text": [
      "16it [00:01,  9.50it/s]"
     ]
    },
    {
     "name": "stdout",
     "output_type": "stream",
     "text": [
      "person_sheet_valid Shape : (283, 9)\n",
      "person_sheet_valid_zeros Shape : (130, 9)\n",
      "person_sheet_valid_label_costs Shape : (153, 9)\n",
      "(226, 9) (57, 9)\n",
      "person_sheet_valid Shape : (335, 9)\n",
      "person_sheet_valid_zeros Shape : (151, 9)\n",
      "person_sheet_valid_label_costs Shape : (184, 9)\n",
      "(268, 9) (67, 9)\n",
      "person_sheet_valid Shape : (277, 9)\n",
      "person_sheet_valid_zeros Shape : (116, 9)\n",
      "person_sheet_valid_label_costs Shape : (161, 9)\n",
      "(222, 9) (55, 9)\n"
     ]
    },
    {
     "name": "stderr",
     "output_type": "stream",
     "text": [
      "19it [00:02,  9.42it/s]"
     ]
    },
    {
     "name": "stdout",
     "output_type": "stream",
     "text": [
      "person_sheet_valid Shape : (278, 9)\n",
      "person_sheet_valid_zeros Shape : (110, 9)\n",
      "person_sheet_valid_label_costs Shape : (168, 9)\n",
      "(222, 9) (56, 9)\n",
      "person_sheet_valid Shape : (329, 9)\n",
      "person_sheet_valid_zeros Shape : (119, 9)\n",
      "person_sheet_valid_label_costs Shape : (210, 9)\n",
      "(263, 9) (66, 9)\n",
      "person_sheet_valid Shape : (269, 9)\n",
      "person_sheet_valid_zeros Shape : (87, 9)\n",
      "person_sheet_valid_label_costs Shape : (182, 9)\n",
      "(216, 9) (53, 9)\n"
     ]
    },
    {
     "name": "stderr",
     "output_type": "stream",
     "text": [
      "21it [00:02,  9.80it/s]"
     ]
    },
    {
     "name": "stdout",
     "output_type": "stream",
     "text": [
      "person_sheet_valid Shape : (280, 9)\n",
      "person_sheet_valid_zeros Shape : (107, 9)\n",
      "person_sheet_valid_label_costs Shape : (173, 9)\n",
      "(224, 9) (56, 9)\n",
      "person_sheet_valid Shape : (275, 9)\n",
      "person_sheet_valid_zeros Shape : (115, 9)\n",
      "person_sheet_valid_label_costs Shape : (160, 9)\n",
      "(220, 9) (55, 9)\n"
     ]
    },
    {
     "name": "stderr",
     "output_type": "stream",
     "text": [
      "22it [00:02,  9.17it/s]"
     ]
    },
    {
     "name": "stdout",
     "output_type": "stream",
     "text": [
      "person_sheet_valid Shape : (281, 9)\n",
      "person_sheet_valid_zeros Shape : (97, 9)\n",
      "person_sheet_valid_label_costs Shape : (184, 9)\n",
      "(225, 9) (56, 9)\n",
      "Done for making Pandas DataFrame to Numpy npy file.\n"
     ]
    },
    {
     "name": "stderr",
     "output_type": "stream",
     "text": [
      "\n"
     ]
    }
   ],
   "source": [
    "# 총 자음 모음 수만큼의 sheet\n",
    "sheet_name_lst = [('ㄱ', 1), ('ㄴ', 2), ('ㄷ', 3), ('ㄹ', 4), ('ㅁ', 5), ('ㅂ', 6), \n",
    "                  ('ㅅ', 7), ('ㅇ', 8), ('ㅈ', 9), ('ㅊ', 10), ('ㅋ', 11), ('ㅍ', 12), \n",
    "                  ('ㅎ', 13), ('ㅏ', 14), ('ㅑ', 15), ('ㅓ', 16), ('ㅕ', 17), \n",
    "                  ('ㅗ', 18), ('ㅛ', 19), ('ㅜ', 20), ('ㅡ', 21), ('ㅣ', 22)]\n",
    "\n",
    "# # This is for making train and test datatseYaw\tPitch\tRoll\n",
    "\n",
    "# wb_test = opyxl.Workbook()\n",
    "# train_xlsx_path = total_data_path + 'train.xlsx'\n",
    "# test_xlsx_path = total_data_path + 'test.xlsx'\n",
    "# wb_train.active.title = sheet_name_lst[0][0] + ' (' + str(sheet_name_lst[0][1]) + ')'\n",
    "# wb_test.active.title = sheet_name_lst[0][0] + ' (' + str(sheet_name_lst[0][1]) + ')'\n",
    "\n",
    "# for sheet_num, (hangul_character, label_cost) in enumerate(sheet_name_lst[1:]):\n",
    "#     wb_train.create_sheet(hangul_character + ' (' + str(label_cost) + ')')\n",
    "#     wb_test.create_sheet(hangul_character + ' (' + str(label_cost) + ')')\n",
    "    \n",
    "#     wb_train.save(train_xlsx_path)\n",
    "#     wb_test.save(test_xlsx_path)\n",
    "\n",
    "class_diagrams = [[] for _ in range(len(sheet_name_lst) + 1)]\n",
    "class_diagrams_dict = dict.fromkeys([hangul_chr for hangul_chr, label_cst in sheet_name_lst])\n",
    "\n",
    "# train_tmp = tmpf.TemporaryFile(mode = 'a+b')\n",
    "total_people_train_fingers = []\n",
    "total_people_train_accelerates = []\n",
    "for person_idx, person_data_path in enumerate(total_xlsx_lst):\n",
    "    person_name = person_data_path.split('/')[-1].replace('.xlsx', '')\n",
    "    # print('person_name :', person_name)\n",
    "\n",
    "    person_train_fingers = []\n",
    "    person_train_accelerates = []\n",
    "    for sheet_num, (hangul_character, label_cost) in tqdm(enumerate(sheet_name_lst)):\n",
    "        person_sheet_total = pd.read_excel(person_data_path, sheet_name = sheet_num,\n",
    "                                           header = 2)\n",
    "        person_sheet_total = person_sheet_total.iloc[:, 2:]\n",
    "        \n",
    "        person_sheet_label_cost = person_sheet_total.columns[-1]\n",
    "        if person_sheet_label_cost == hangul_character:\n",
    "            person_sheet_total.rename(columns = {hangul_character:'Label'}, inplace = True)\n",
    "            \n",
    "        person_sheet_valid = person_sheet_total.loc[(person_sheet_total['Label'] == label_cost) |\n",
    "                                                    (person_sheet_total['Label'] == 0)]\n",
    "        person_sheet_valid = person_sheet_valid.loc[:, ['Thumb', 'Index', 'Middle', 'Ring', 'Little', 'Yaw', 'Pitch', 'Roll', 'Label']]\n",
    "        \n",
    "        # Erase NaN values\n",
    "        person_sheet_valid = person_sheet_valid.dropna(axis = 0)\n",
    "        print('person_sheet_valid Shape :', person_sheet_valid.shape)\n",
    "        \n",
    "        # Divide 0 and label_cost in valid DataFrame\n",
    "        person_sheet_valid_zeros = person_sheet_valid.loc[person_sheet_valid['Label'] == 0]\n",
    "        person_sheet_valid_label_costs = person_sheet_valid.loc[person_sheet_valid['Label'] != 0]\n",
    "        print('person_sheet_valid_zeros Shape :', person_sheet_valid_zeros.shape)\n",
    "        print('person_sheet_valid_label_costs Shape :', person_sheet_valid_label_costs.shape)        \n",
    "\n",
    "\n",
    "        person_sheet_valid_zeros_train = person_sheet_valid_zeros.sample(frac = 0.8, random_state = 7)\n",
    "        person_sheet_valid_zeros_test = pd.merge(person_sheet_valid_zeros, person_sheet_valid_zeros_train,\n",
    "                                                 how = 'outer',\n",
    "                                                 indicator = True).query(\n",
    "                                                     '_merge == \"left_only\"'\n",
    "                                                     ).drop(columns = ['_merge'])\n",
    "        \n",
    "        person_sheet_valid_label_costs_train = person_sheet_valid_label_costs.sample(frac = 0.8, random_state = 7)\n",
    "        person_sheet_valid_label_costs_test = pd.merge(person_sheet_valid_label_costs, person_sheet_valid_label_costs_train,\n",
    "                                                       how = 'outer',\n",
    "                                                       indicator = True).query(\n",
    "                                                           '_merge == \"left_only\"'\n",
    "                                                       ).drop(columns = ['_merge'])\n",
    "        \n",
    "        \n",
    "        \n",
    "        person_sheet_train = pd.concat([person_sheet_valid_zeros_train, person_sheet_valid_label_costs_train])\n",
    "        person_sheet_test = pd.concat([person_sheet_valid_zeros_test, person_sheet_valid_label_costs_test])\n",
    "        \n",
    "        person_sheet_train_np = person_sheet_train.to_numpy()\n",
    "        person_sheet_test_np = person_sheet_test.to_numpy()\n",
    "        print(person_sheet_train_np.shape, person_sheet_test_np.shape)\n",
    "        \n",
    "        # Divide ndarray with 40 rows\n",
    "        train_total_rows, train_total_columns = person_sheet_train_np.shape\n",
    "        test_total_rows, test_total_columns = person_sheet_test_np.shape\n",
    "        \n",
    "        train_quota, _ = divmod(train_total_rows, 40)\n",
    "        test_quota, _ = divmod(test_total_rows, 40)\n",
    "\n",
    "        # for train_cnt in range(train_quota + 1):\n",
    "        #     chunk_person_sheet_train_np = person_sheet_train_np[train_cnt * 40:train_cnt * 40 + 40, :]\n",
    "        #     np.save(save_train_data_path + person_name + '_' + str(label_cost) + '_' + str(train_cnt), chunk_person_sheet_train_np)\n",
    "\n",
    "        # for test_cnt in range(test_quota + 1):\n",
    "        #     chunk_person_sheet_test_np = person_sheet_test_np[test_cnt * 40:test_cnt * 40 + 40, :]\n",
    "        #     np.save(save_test_data_path + person_name + '_' + str(label_cost) + '_' + str(test_cnt), chunk_person_sheet_test_np)\n",
    "\n",
    "print('Done for making Pandas DataFrame to Numpy npy file.')"
   ]
  },
  {
   "cell_type": "code",
   "execution_count": null,
   "metadata": {},
   "outputs": [],
   "source": []
  }
 ],
 "metadata": {
  "kernelspec": {
   "display_name": "AI",
   "language": "python",
   "name": "python3"
  },
  "language_info": {
   "codemirror_mode": {
    "name": "ipython",
    "version": 3
   },
   "file_extension": ".py",
   "mimetype": "text/x-python",
   "name": "python",
   "nbconvert_exporter": "python",
   "pygments_lexer": "ipython3",
   "version": "3.8.13"
  },
  "orig_nbformat": 4
 },
 "nbformat": 4,
 "nbformat_minor": 2
}
